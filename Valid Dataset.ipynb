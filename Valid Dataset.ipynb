{
 "cells": [
  {
   "cell_type": "code",
   "execution_count": 2,
   "metadata": {},
   "outputs": [],
   "source": [
    "import pandas as pd\n",
    "import numpy as np\n",
    "import networkx as nx\n",
    "import time\n",
    "import sys\n",
    "import os\n",
    "import utils\n",
    "\n",
    "import matplotlib.pyplot as plt\n",
    "%matplotlib inline"
   ]
  },
  {
   "cell_type": "code",
   "execution_count": 3,
   "metadata": {},
   "outputs": [],
   "source": [
    "# selected_years = [2014, 2014, 2016, 2017, 2018]\n",
    "# selected_months = [4, 9, 7, 9, 9]\n",
    "# selected_days = [2, 2, 2, 2, 2]"
   ]
  },
  {
   "cell_type": "code",
   "execution_count": 32,
   "metadata": {},
   "outputs": [],
   "source": [
    "dir_labeled = \"../../research/network/dataset_network_sub_label_ip_month/\"\n",
    "dir_graph = \"./graph_copy_2/\"\n",
    "year = 2013\n",
    "month = 7"
   ]
  },
  {
   "cell_type": "code",
   "execution_count": 5,
   "metadata": {},
   "outputs": [],
   "source": [
    "# Get G_pre and G_real\n",
    "# path_graph = dir_labeled + utils.toStrYearMonth(year, month) + \".pkl\"\n",
    "# G_pre = pd.read_pickle(path_graph)\n",
    "# [year, month] = utils.getNextYearMonth(year, month)\n",
    "# path_graph = dir_labeled + utils.toStrYearMonth(year, month) + \".pkl\"\n",
    "# G_real = pd.read_pickle(path_graph)"
   ]
  },
  {
   "cell_type": "code",
   "execution_count": 33,
   "metadata": {},
   "outputs": [],
   "source": [
    "# Get G_pre and G_real\n",
    "path_graph = dir_graph + utils.toStrYearMonth(year, month) + \".gexf\"\n",
    "G_pre = nx.read_gexf(path_graph, node_type=int)\n",
    "[year, month] = utils.getNextYearMonth(year, month)\n",
    "path_graph = dir_graph + utils.toStrYearMonth(year, month) + \".gexf\"\n",
    "G_real = nx.read_gexf(path_graph, node_type=int)"
   ]
  },
  {
   "cell_type": "markdown",
   "metadata": {},
   "source": [
    "### Goal\n",
    "\n",
    "1. distribution of difference between each two months\n",
    "2. sample of 10 edges weight distribution"
   ]
  },
  {
   "cell_type": "code",
   "execution_count": 5,
   "metadata": {
    "scrolled": true
   },
   "outputs": [
    {
     "name": "stdout",
     "output_type": "stream",
     "text": [
      "# nodes in pre: 455743\n",
      "# nodes in next: 1028115\n",
      "# nodes appear: 758605;       166.45%\n",
      "# nodes disappear: 186233;        40.86%\n"
     ]
    }
   ],
   "source": [
    "nodes_appear = [n for n in G_real if n not in G_pre]\n",
    "nodes_disappear = [n for n in G_pre if n not in G_real]\n",
    "print(\"# nodes in pre: \" + str(len(G_pre.nodes)))\n",
    "print(\"# nodes in next: \" + str(len(G_real.nodes)))\n",
    "print(\"# nodes appear: \" + str(len(nodes_appear)) + \"; \" + \"{:12.2f}\".format(len(nodes_appear) / len(G_pre.nodes) * 100) + \"%\")\n",
    "print(\"# nodes disappear: \" + str(len(nodes_disappear)) + \"; \" + \"{:12.2f}\".format(len(nodes_disappear) / len(G_pre.nodes) * 100) + \"%\")"
   ]
  },
  {
   "cell_type": "code",
   "execution_count": 6,
   "metadata": {},
   "outputs": [
    {
     "name": "stdout",
     "output_type": "stream",
     "text": [
      "# edges in pre: 771890\n",
      "# edges in next: 1725008\n",
      "# edges appear: 1252909;       162.32%\n",
      "# edges disappear: 299791;        38.84%\n"
     ]
    }
   ],
   "source": [
    "edges_appear = [e for e in G_real.edges if e not in G_pre.edges]\n",
    "edges_disappear = [e for e in G_pre.edges if e not in G_real.edges]\n",
    "print(\"# edges in pre: \" + str(len(G_pre.edges)))\n",
    "print(\"# edges in next: \" + str(len(G_real.edges)))\n",
    "print(\"# edges appear: \" + str(len(edges_appear)) + \"; \" + \"{:12.2f}\".format(len(edges_appear) / len(G_pre.edges) * 100) + \"%\")\n",
    "print(\"# edges disappear: \" + str(len(edges_disappear)) + \"; \" + \"{:12.2f}\".format(len(edges_disappear) / len(G_pre.edges) * 100) + \"%\")"
   ]
  },
  {
   "cell_type": "code",
   "execution_count": 21,
   "metadata": {},
   "outputs": [
    {
     "data": {
      "text/html": [
       "<div>\n",
       "<style scoped>\n",
       "    .dataframe tbody tr th:only-of-type {\n",
       "        vertical-align: middle;\n",
       "    }\n",
       "\n",
       "    .dataframe tbody tr th {\n",
       "        vertical-align: top;\n",
       "    }\n",
       "\n",
       "    .dataframe thead th {\n",
       "        text-align: right;\n",
       "    }\n",
       "</style>\n",
       "<table border=\"1\" class=\"dataframe\">\n",
       "  <thead>\n",
       "    <tr style=\"text-align: right;\">\n",
       "      <th></th>\n",
       "      <th>IP_SRC</th>\n",
       "      <th>IP_DST</th>\n",
       "      <th>RTT</th>\n",
       "    </tr>\n",
       "  </thead>\n",
       "  <tbody>\n",
       "    <tr>\n",
       "      <th>0</th>\n",
       "      <td>0</td>\n",
       "      <td>1</td>\n",
       "      <td>19332</td>\n",
       "    </tr>\n",
       "    <tr>\n",
       "      <th>1</th>\n",
       "      <td>1</td>\n",
       "      <td>2</td>\n",
       "      <td>657</td>\n",
       "    </tr>\n",
       "    <tr>\n",
       "      <th>2</th>\n",
       "      <td>2</td>\n",
       "      <td>3</td>\n",
       "      <td>413</td>\n",
       "    </tr>\n",
       "    <tr>\n",
       "      <th>3</th>\n",
       "      <td>3</td>\n",
       "      <td>678316</td>\n",
       "      <td>4605</td>\n",
       "    </tr>\n",
       "    <tr>\n",
       "      <th>4</th>\n",
       "      <td>678316</td>\n",
       "      <td>678317</td>\n",
       "      <td>4628</td>\n",
       "    </tr>\n",
       "    <tr>\n",
       "      <th>5</th>\n",
       "      <td>678317</td>\n",
       "      <td>46</td>\n",
       "      <td>24540</td>\n",
       "    </tr>\n",
       "    <tr>\n",
       "      <th>6</th>\n",
       "      <td>46</td>\n",
       "      <td>82</td>\n",
       "      <td>24722</td>\n",
       "    </tr>\n",
       "    <tr>\n",
       "      <th>7</th>\n",
       "      <td>82</td>\n",
       "      <td>83</td>\n",
       "      <td>36820</td>\n",
       "    </tr>\n",
       "    <tr>\n",
       "      <th>8</th>\n",
       "      <td>83</td>\n",
       "      <td>84</td>\n",
       "      <td>126407</td>\n",
       "    </tr>\n",
       "    <tr>\n",
       "      <th>9</th>\n",
       "      <td>84</td>\n",
       "      <td>85</td>\n",
       "      <td>134827</td>\n",
       "    </tr>\n",
       "  </tbody>\n",
       "</table>\n",
       "</div>"
      ],
      "text/plain": [
       "   IP_SRC  IP_DST     RTT\n",
       "0       0       1   19332\n",
       "1       1       2     657\n",
       "2       2       3     413\n",
       "3       3  678316    4605\n",
       "4  678316  678317    4628\n",
       "5  678317      46   24540\n",
       "6      46      82   24722\n",
       "7      82      83   36820\n",
       "8      83      84  126407\n",
       "9      84      85  134827"
      ]
     },
     "execution_count": 21,
     "metadata": {},
     "output_type": "execute_result"
    }
   ],
   "source": [
    "G_pre.head(10)"
   ]
  },
  {
   "cell_type": "code",
   "execution_count": 20,
   "metadata": {},
   "outputs": [
    {
     "data": {
      "text/plain": [
       "IP_SRC  IP_DST\n",
       "421437  421438    245133\n",
       "421438  421439    245112\n",
       "0       1         230895\n",
       "1       2         230890\n",
       "2       3         229366\n",
       "                   ...  \n",
       "164042  973327         1\n",
       "164038  339268         1\n",
       "164031  647401         1\n",
       "        195492         1\n",
       "100466  59281          1\n",
       "Length: 1085448, dtype: int64"
      ]
     },
     "execution_count": 20,
     "metadata": {},
     "output_type": "execute_result"
    }
   ],
   "source": [
    "G_pre.groupby(['IP_SRC', 'IP_DST']).size().sort_values(ascending=False)"
   ]
  },
  {
   "cell_type": "code",
   "execution_count": 19,
   "metadata": {},
   "outputs": [],
   "source": [
    "G_nodes = G_pre[['IP_SRC', 'IP_DST']]"
   ]
  },
  {
   "cell_type": "code",
   "execution_count": 20,
   "metadata": {},
   "outputs": [
    {
     "data": {
      "text/plain": [
       "612861    301544.0\n",
       "355078    263364.0\n",
       "355079    263227.0\n",
       "308020    263162.0\n",
       "308021    261476.0\n",
       "            ...   \n",
       "468600         1.0\n",
       "240767         1.0\n",
       "240768         1.0\n",
       "468599         1.0\n",
       "678315         1.0\n",
       "Length: 678316, dtype: float64"
      ]
     },
     "execution_count": 20,
     "metadata": {},
     "output_type": "execute_result"
    }
   ],
   "source": [
    "s1 = G_nodes.IP_SRC.value_counts()\n",
    "s2 = G_nodes.IP_DST.value_counts()\n",
    "\n",
    "s = s1.add(s2, fill_value=0).sort_values(ascending=False)\n",
    "\n",
    "s"
   ]
  },
  {
   "cell_type": "code",
   "execution_count": 51,
   "metadata": {},
   "outputs": [],
   "source": [
    "G_nodes_n = G_real[['IP_SRC', 'IP_DST']]\n",
    "s1_n = G_nodes_n.IP_SRC.value_counts()\n",
    "s2_n = G_nodes_n.IP_DST.value_counts()\n",
    "\n",
    "s_n = s1_n.add(s2_n, fill_value=0).sort_values(ascending=False)"
   ]
  },
  {
   "cell_type": "code",
   "execution_count": 32,
   "metadata": {},
   "outputs": [
    {
     "data": {
      "text/plain": [
       "623342"
      ]
     },
     "execution_count": 32,
     "metadata": {},
     "output_type": "execute_result"
    }
   ],
   "source": [
    "len(s)"
   ]
  },
  {
   "cell_type": "code",
   "execution_count": 37,
   "metadata": {
    "scrolled": true
   },
   "outputs": [
    {
     "data": {
      "image/png": "[encoded data removed]",
      "text/plain": [
       "<Figure size 432x288 with 1 Axes>"
      ]
     },
     "metadata": {
      "needs_background": "light"
     },
     "output_type": "display_data"
    }
   ],
   "source": [
    "fig, ax = plt.subplots()\n",
    "s.hist(ax=ax, bins=30, density=True)\n",
    "ax.set_xscale('log')"
   ]
  },
  {
   "cell_type": "code",
   "execution_count": 40,
   "metadata": {},
   "outputs": [
    {
     "name": "stdout",
     "output_type": "stream",
     "text": [
      "421438    5.690428\n",
      "421439    5.690044\n",
      "1         5.664445\n",
      "2         5.664441\n",
      "3         5.661559\n",
      "            ...   \n",
      "808791    0.000000\n",
      "808790    0.000000\n",
      "395725    0.000000\n",
      "808788    0.000000\n",
      "712966    0.000000\n",
      "Length: 623342, dtype: float64\n"
     ]
    }
   ],
   "source": [
    "print(np.log10(s))"
   ]
  },
  {
   "cell_type": "code",
   "execution_count": 41,
   "metadata": {},
   "outputs": [
    {
     "data": {
      "text/plain": [
       "(array([2.43800334e+00, 8.18371058e-01, 3.19276438e-01, 3.70808924e-01,\n",
       "        3.21982888e-01, 2.29904409e-01, 1.97832985e-01, 1.43078133e-01,\n",
       "        1.19904161e-01, 8.59720529e-02, 6.59189553e-02, 4.50285499e-02,\n",
       "        3.25957985e-02, 2.42058057e-02, 1.79640571e-02, 1.25934468e-02,\n",
       "        8.88053670e-03, 6.13179915e-03, 4.18653873e-03, 2.73182224e-03,\n",
       "        2.28356658e-03, 1.68307315e-03, 9.30341940e-04, 5.92035780e-04,\n",
       "        3.29848506e-04, 2.53729620e-04, 1.26864810e-04, 1.69153080e-04,\n",
       "        1.01491848e-04, 1.69153080e-04]),\n",
       " array([0.        , 0.18968094, 0.37936188, 0.56904282, 0.75872376,\n",
       "        0.94840471, 1.13808565, 1.32776659, 1.51744753, 1.70712847,\n",
       "        1.89680941, 2.08649035, 2.27617129, 2.46585223, 2.65553318,\n",
       "        2.84521412, 3.03489506, 3.224576  , 3.41425694, 3.60393788,\n",
       "        3.79361882, 3.98329976, 4.1729807 , 4.36266164, 4.55234259,\n",
       "        4.74202353, 4.93170447, 5.12138541, 5.31106635, 5.50074729,\n",
       "        5.69042823]),\n",
       " <a list of 30 Patch objects>)"
      ]
     },
     "execution_count": 41,
     "metadata": {},
     "output_type": "execute_result"
    },
    {
     "data": {
      "image/png": "[encoded data removed]",
      "text/plain": [
       "<Figure size 432x288 with 1 Axes>"
      ]
     },
     "metadata": {
      "needs_background": "light"
     },
     "output_type": "display_data"
    }
   ],
   "source": [
    "plt.hist(np.log10(s), bins=30, density=True) "
   ]
  },
  {
   "cell_type": "markdown",
   "metadata": {},
   "source": [
    "More than 50% nodes was used less than 10 times."
   ]
  },
  {
   "cell_type": "code",
   "execution_count": 21,
   "metadata": {},
   "outputs": [
    {
     "data": {
      "text/plain": [
       "612861    301544.0\n",
       "355078    263364.0\n",
       "355079    263227.0\n",
       "308020    263162.0\n",
       "308021    261476.0\n",
       "            ...   \n",
       "109521         9.0\n",
       "137340         9.0\n",
       "303686         9.0\n",
       "38143          9.0\n",
       "448619         9.0\n",
       "Length: 135663, dtype: float64"
      ]
     },
     "execution_count": 21,
     "metadata": {},
     "output_type": "execute_result"
    }
   ],
   "source": [
    "s_top20 = s[:int(0.2*(len(s)))]\n",
    "\n",
    "s_top20"
   ]
  },
  {
   "cell_type": "code",
   "execution_count": 69,
   "metadata": {},
   "outputs": [
    {
     "data": {
      "text/plain": [
       "308020    354775.0\n",
       "308021    354234.0\n",
       "355078    350570.0\n",
       "355079    350490.0\n",
       "355080    349085.0\n",
       "            ...   \n",
       "150226        24.0\n",
       "14972         24.0\n",
       "56993         24.0\n",
       "44694         24.0\n",
       "7335          24.0\n",
       "Length: 45574, dtype: float64"
      ]
     },
     "execution_count": 69,
     "metadata": {},
     "output_type": "execute_result"
    }
   ],
   "source": [
    "s_n_top20 = s_n[:int(0.1*(len(s_n)))]\n",
    "\n",
    "s_n_top20"
   ]
  },
  {
   "cell_type": "code",
   "execution_count": 66,
   "metadata": {},
   "outputs": [
    {
     "name": "stdout",
     "output_type": "stream",
     "text": [
      "# nodes in pre: 124668\n",
      "# nodes in next: 91148\n",
      "# nodes appear: 40510;        18.77%\n",
      "# nodes disappear: 22298;        10.33%\n"
     ]
    }
   ],
   "source": [
    "nodes_appear = [n for n in s_top20 if n not in s_n_top20]\n",
    "nodes_disappear = [n for n in s_n_top20 if n not in s_top20]\n",
    "print(\"# nodes in pre: \" + str(len(s_top20)))\n",
    "print(\"# nodes in next: \" + str(len(s_n_top20)))\n",
    "print(\"# nodes appear: \" + str(len(nodes_appear)) + \"; \" + \"{:12.2f}\".format(len(nodes_appear) / (len(s_n_top20) + len(s_top20)) * 100) + \"%\")\n",
    "print(\"# nodes disappear: \" + str(len(nodes_disappear)) + \"; \" + \"{:12.2f}\".format(len(nodes_disappear) / (len(s_n_top20) + len(s_top20)) * 100) + \"%\")"
   ]
  },
  {
   "cell_type": "code",
   "execution_count": 70,
   "metadata": {},
   "outputs": [
    {
     "name": "stdout",
     "output_type": "stream",
     "text": [
      "# nodes in pre: 62334\n",
      "# nodes in next: 45574\n",
      "# nodes appear: 23247;        21.54%\n",
      "# nodes disappear: 12986;        12.03%\n"
     ]
    }
   ],
   "source": [
    "nodes_appear = [n for n in s_top20 if n not in s_n_top20]\n",
    "nodes_disappear = [n for n in s_n_top20 if n not in s_top20]\n",
    "print(\"# nodes in pre: \" + str(len(s_top20)))\n",
    "print(\"# nodes in next: \" + str(len(s_n_top20)))\n",
    "print(\"# nodes appear: \" + str(len(nodes_appear)) + \"; \" + \"{:12.2f}\".format(len(nodes_appear) / (len(s_n_top20) + len(s_top20)) * 100) + \"%\")\n",
    "print(\"# nodes disappear: \" + str(len(nodes_disappear)) + \"; \" + \"{:12.2f}\".format(len(nodes_disappear) / (len(s_n_top20) + len(s_top20)) * 100) + \"%\")"
   ]
  },
  {
   "cell_type": "code",
   "execution_count": 11,
   "metadata": {},
   "outputs": [],
   "source": [
    "# dict_e_rtt = {}\n",
    "\n",
    "# for name,group in G_pre.groupby(['IP_SRC', 'IP_DST']):\n",
    "#    dict_e_rtt[name] = group.RTT"
   ]
  },
  {
   "cell_type": "code",
   "execution_count": 16,
   "metadata": {},
   "outputs": [],
   "source": [
    "plt.rcParams[\"figure.figsize\"]=[20,15]"
   ]
  },
  {
   "cell_type": "code",
   "execution_count": 17,
   "metadata": {},
   "outputs": [
    {
     "data": {
      "text/plain": [
       "<matplotlib.axes._subplots.AxesSubplot at 0x204c8b0d888>"
      ]
     },
     "execution_count": 17,
     "metadata": {},
     "output_type": "execute_result"
    },
    {
     "data": {
      "image/png": "[encoded data removed]",
      "text/plain": [
       "<Figure size 1440x1080 with 1 Axes>"
      ]
     },
     "metadata": {
      "needs_background": "light"
     },
     "output_type": "display_data"
    }
   ],
   "source": [
    "fig, ax = plt.subplots()\n",
    "G_pre.RTT.hist(ax=ax, bins=30, density=True)\n",
    "# ax.set_xscale('log')"
   ]
  },
  {
   "cell_type": "code",
   "execution_count": 18,
   "metadata": {},
   "outputs": [
    {
     "data": {
      "text/plain": [
       "(array([1.48714639e-02, 1.74377397e-01, 2.14703623e-01, 1.90591127e-01,\n",
       "        1.78472755e-01, 1.65880382e-01, 2.78758206e-01, 2.09918251e-01,\n",
       "        1.57841336e-01, 1.80885798e-01, 2.63634447e-01, 3.37224757e-01,\n",
       "        2.54816579e-01, 3.28020431e-01, 5.17429191e-01, 4.37496285e-01,\n",
       "        8.90982907e-01, 2.86046485e-01, 2.18494371e-02, 6.22087820e-03,\n",
       "        2.74802917e-03, 1.78673579e-03, 3.77492761e-03, 1.17878153e-03,\n",
       "        4.70837577e-04, 1.35661132e-03, 1.13975602e-03, 6.93599441e-04,\n",
       "        3.79707723e-05, 1.60321039e-05]),\n",
       " array([2.0374265 , 2.23261605, 2.4278056 , 2.62299516, 2.81818471,\n",
       "        3.01337426, 3.20856381, 3.40375337, 3.59894292, 3.79413247,\n",
       "        3.98932203, 4.18451158, 4.37970113, 4.57489068, 4.77008024,\n",
       "        4.96526979, 5.16045934, 5.35564889, 5.55083845, 5.746028  ,\n",
       "        5.94121755, 6.13640711, 6.33159666, 6.52678621, 6.72197576,\n",
       "        6.91716532, 7.11235487, 7.30754442, 7.50273398, 7.69792353,\n",
       "        7.89311308]),\n",
       " <a list of 30 Patch objects>)"
      ]
     },
     "execution_count": 18,
     "metadata": {},
     "output_type": "execute_result"
    },
    {
     "data": {
      "image/png": "[encoded data removed]",
      "text/plain": [
       "<Figure size 1440x1080 with 1 Axes>"
      ]
     },
     "metadata": {
      "needs_background": "light"
     },
     "output_type": "display_data"
    }
   ],
   "source": [
    "plt.hist(np.log10(G_pre.RTT), bins=30, density=True) "
   ]
  },
  {
   "cell_type": "code",
   "execution_count": 22,
   "metadata": {},
   "outputs": [
    {
     "data": {
      "text/plain": [
       "Int64Index([612861, 355078, 355079, 308020, 308021, 355080, 546340, 264826,\n",
       "            449583, 546339,\n",
       "            ...\n",
       "            367593, 136825, 182569,  97906,  15681, 109521, 137340, 303686,\n",
       "             38143, 448619],\n",
       "           dtype='int64', length=135663)"
      ]
     },
     "execution_count": 22,
     "metadata": {},
     "output_type": "execute_result"
    }
   ],
   "source": [
    "s_top20.index"
   ]
  },
  {
   "cell_type": "code",
   "execution_count": 24,
   "metadata": {},
   "outputs": [
    {
     "data": {
      "text/plain": [
       "(array([1.51292021e-02, 1.75997529e-01, 2.16777357e-01, 1.95150783e-01,\n",
       "        1.81680046e-01, 1.55764168e-01, 2.91786421e-01, 2.15273193e-01,\n",
       "        1.60815104e-01, 1.78934179e-01, 2.66034930e-01, 3.33756447e-01,\n",
       "        2.62118180e-01, 3.24108464e-01, 5.03837539e-01, 4.33049106e-01,\n",
       "        8.64128570e-01, 3.30671719e-01, 2.59386262e-02, 6.55338370e-03,\n",
       "        2.61903575e-03, 1.82671520e-03, 1.73937109e-03, 1.22410520e-03,\n",
       "        5.10544580e-04, 1.17667757e-03, 1.09169411e-03, 5.83295573e-04,\n",
       "        4.65692198e-05, 1.67391665e-05]),\n",
       " array([2.0374265 , 2.23166388, 2.42590125, 2.62013863, 2.81437601,\n",
       "        3.00861338, 3.20285076, 3.39708814, 3.59132552, 3.78556289,\n",
       "        3.97980027, 4.17403765, 4.36827503, 4.5625124 , 4.75674978,\n",
       "        4.95098716, 5.14522453, 5.33946191, 5.53369929, 5.72793667,\n",
       "        5.92217404, 6.11641142, 6.3106488 , 6.50488618, 6.69912355,\n",
       "        6.89336093, 7.08759831, 7.28183568, 7.47607306, 7.67031044,\n",
       "        7.86454782]),\n",
       " <a list of 30 Patch objects>)"
      ]
     },
     "execution_count": 24,
     "metadata": {},
     "output_type": "execute_result"
    },
    {
     "data": {
      "image/png": "[encoded data removed]",
      "text/plain": [
       "<Figure size 1440x1080 with 1 Axes>"
      ]
     },
     "metadata": {
      "needs_background": "light"
     },
     "output_type": "display_data"
    }
   ],
   "source": [
    "G_pre_sub = G_pre.loc[G_pre['IP_SRC'].isin(s_top20.index)]"
   ]
  },
  {
   "cell_type": "code",
   "execution_count": 25,
   "metadata": {},
   "outputs": [
    {
     "data": {
      "text/plain": [
       "23989874"
      ]
     },
     "execution_count": 25,
     "metadata": {},
     "output_type": "execute_result"
    }
   ],
   "source": [
    "len(G_pre_sub)"
   ]
  },
  {
   "cell_type": "code",
   "execution_count": 26,
   "metadata": {},
   "outputs": [
    {
     "data": {
      "text/plain": [
       "24286588"
      ]
     },
     "execution_count": 26,
     "metadata": {},
     "output_type": "execute_result"
    }
   ],
   "source": [
    "len(G_pre)"
   ]
  },
  {
   "cell_type": "code",
   "execution_count": null,
   "metadata": {},
   "outputs": [],
   "source": [
    "plt.hist(np.log10(G_pre_sub.RTT), bins=30, density=True) "
   ]
  },
  {
   "cell_type": "code",
   "execution_count": 27,
   "metadata": {},
   "outputs": [],
   "source": [
    "import time\n",
    "start_time = time.time()"
   ]
  },
  {
   "cell_type": "code",
   "execution_count": 30,
   "metadata": {},
   "outputs": [
    {
     "name": "stdout",
     "output_type": "stream",
     "text": [
      "<built-in function time>\n"
     ]
    }
   ],
   "source": [
    "print(str(time.time))"
   ]
  },
  {
   "cell_type": "code",
   "execution_count": 28,
   "metadata": {},
   "outputs": [
    {
     "name": "stdout",
     "output_type": "stream",
     "text": [
      "16.604605674743652\n"
     ]
    }
   ],
   "source": [
    "print(time.time() - start_time)"
   ]
  },
  {
   "cell_type": "code",
   "execution_count": null,
   "metadata": {},
   "outputs": [],
   "source": [
    "df_labeled.groupby(['IP_SRC', 'IP_DST'])"
   ]
  },
  {
   "cell_type": "code",
   "execution_count": 34,
   "metadata": {},
   "outputs": [],
   "source": [
    "edges = edges_appear = [e for e in G_real.edges if e in G_pre.edges]"
   ]
  },
  {
   "cell_type": "code",
   "execution_count": 42,
   "metadata": {},
   "outputs": [],
   "source": [
    "differences = [(G_real[u][v]['weight'] - G_pre[u][v]['weight']) for (u, v) in edges]"
   ]
  },
  {
   "cell_type": "code",
   "execution_count": 36,
   "metadata": {},
   "outputs": [
    {
     "data": {
      "text/plain": [
       "504985"
      ]
     },
     "execution_count": 36,
     "metadata": {},
     "output_type": "execute_result"
    }
   ],
   "source": [
    "len(differences)"
   ]
  },
  {
   "cell_type": "code",
   "execution_count": 37,
   "metadata": {
    "scrolled": true
   },
   "outputs": [
    {
     "name": "stdout",
     "output_type": "stream",
     "text": [
      "119907551.0\n"
     ]
    }
   ],
   "source": [
    "print(max(differences) - min(differences))"
   ]
  },
  {
   "cell_type": "code",
   "execution_count": 38,
   "metadata": {},
   "outputs": [
    {
     "name": "stdout",
     "output_type": "stream",
     "text": [
      "DescribeResult(nobs=504985, minmax=(-52892296.0, 67015255.0), mean=-1894.9363456340288, variance=353662715754.24774, skewness=4.42320880540724, kurtosis=2118.7575565399125)\n"
     ]
    }
   ],
   "source": [
    "from scipy import stats\n",
    "print(stats.describe(differences))"
   ]
  },
  {
   "cell_type": "code",
   "execution_count": 39,
   "metadata": {},
   "outputs": [],
   "source": [
    "dir_temp = \"./temp/\"\n",
    "addr = dir_temp + 'diff_' + utils.toStrYearMonth(year, month) + '.pkl'\n",
    "import pickle"
   ]
  },
  {
   "cell_type": "code",
   "execution_count": 40,
   "metadata": {},
   "outputs": [],
   "source": [
    "def save_pkl(in_dir):\n",
    "    with open(in_dir, 'wb') as file:\n",
    "        pickle.dump(differences, file)\n",
    "        return True\n",
    "    return False"
   ]
  },
  {
   "cell_type": "code",
   "execution_count": 41,
   "metadata": {},
   "outputs": [
    {
     "ename": "FileNotFoundError",
     "evalue": "[Errno 2] No such file or directory: './temp/diff_201308.pkl'",
     "output_type": "error",
     "traceback": [
      "\u001b[1;31m---------------------------------------------------------------------------\u001b[0m",
      "\u001b[1;31mFileNotFoundError\u001b[0m                         Traceback (most recent call last)",
      "\u001b[1;32m<ipython-input-41-cab607653933>\u001b[0m in \u001b[0;36m<module>\u001b[1;34m\u001b[0m\n\u001b[0;32m      4\u001b[0m         \u001b[1;32mreturn\u001b[0m \u001b[0mobj\u001b[0m\u001b[1;33m\u001b[0m\u001b[1;33m\u001b[0m\u001b[0m\n\u001b[0;32m      5\u001b[0m \u001b[1;33m\u001b[0m\u001b[0m\n\u001b[1;32m----> 6\u001b[1;33m \u001b[0mdifferences\u001b[0m \u001b[1;33m=\u001b[0m \u001b[0mread_pkl\u001b[0m\u001b[1;33m(\u001b[0m\u001b[0maddr\u001b[0m\u001b[1;33m)\u001b[0m\u001b[1;33m\u001b[0m\u001b[1;33m\u001b[0m\u001b[0m\n\u001b[0m",
      "\u001b[1;32m<ipython-input-41-cab607653933>\u001b[0m in \u001b[0;36mread_pkl\u001b[1;34m(in_dir)\u001b[0m\n\u001b[0;32m      1\u001b[0m \u001b[1;32mdef\u001b[0m \u001b[0mread_pkl\u001b[0m\u001b[1;33m(\u001b[0m\u001b[0min_dir\u001b[0m\u001b[1;33m)\u001b[0m\u001b[1;33m:\u001b[0m\u001b[1;33m\u001b[0m\u001b[1;33m\u001b[0m\u001b[0m\n\u001b[1;32m----> 2\u001b[1;33m     \u001b[1;32mwith\u001b[0m \u001b[0mopen\u001b[0m\u001b[1;33m(\u001b[0m\u001b[0min_dir\u001b[0m\u001b[1;33m,\u001b[0m \u001b[1;34m'rb'\u001b[0m\u001b[1;33m)\u001b[0m \u001b[1;32mas\u001b[0m \u001b[0mfile\u001b[0m\u001b[1;33m:\u001b[0m\u001b[1;33m\u001b[0m\u001b[1;33m\u001b[0m\u001b[0m\n\u001b[0m\u001b[0;32m      3\u001b[0m         \u001b[0mobj\u001b[0m \u001b[1;33m=\u001b[0m \u001b[0mpickle\u001b[0m\u001b[1;33m.\u001b[0m\u001b[0mload\u001b[0m\u001b[1;33m(\u001b[0m\u001b[0mfile\u001b[0m\u001b[1;33m)\u001b[0m\u001b[1;33m\u001b[0m\u001b[1;33m\u001b[0m\u001b[0m\n\u001b[0;32m      4\u001b[0m         \u001b[1;32mreturn\u001b[0m \u001b[0mobj\u001b[0m\u001b[1;33m\u001b[0m\u001b[1;33m\u001b[0m\u001b[0m\n\u001b[0;32m      5\u001b[0m \u001b[1;33m\u001b[0m\u001b[0m\n",
      "\u001b[1;31mFileNotFoundError\u001b[0m: [Errno 2] No such file or directory: './temp/diff_201308.pkl'"
     ]
    }
   ],
   "source": [
    "def read_pkl(in_dir):\n",
    "    with open(in_dir, 'rb') as file:\n",
    "        obj = pickle.load(file)\n",
    "        return obj"
   ]
  },
  {
   "cell_type": "code",
   "execution_count": 43,
   "metadata": {},
   "outputs": [
    {
     "data": {
      "text/plain": [
       "True"
      ]
     },
     "execution_count": 43,
     "metadata": {},
     "output_type": "execute_result"
    }
   ],
   "source": [
    "save_pkl(addr)"
   ]
  },
  {
   "cell_type": "code",
   "execution_count": null,
   "metadata": {},
   "outputs": [],
   "source": [
    "differences = read_pkl(addr)"
   ]
  },
  {
   "cell_type": "code",
   "execution_count": 14,
   "metadata": {},
   "outputs": [
    {
     "data": {
      "text/plain": [
       "504985"
      ]
     },
     "execution_count": 14,
     "metadata": {},
     "output_type": "execute_result"
    }
   ],
   "source": [
    "len(differences)"
   ]
  },
  {
   "cell_type": "code",
   "execution_count": 15,
   "metadata": {},
   "outputs": [
    {
     "data": {
      "text/plain": [
       "<map at 0x1ee0c5cc888>"
      ]
     },
     "execution_count": 15,
     "metadata": {},
     "output_type": "execute_result"
    }
   ],
   "source": [
    "map(int, differences)"
   ]
  },
  {
   "cell_type": "code",
   "execution_count": 86,
   "metadata": {
    "scrolled": true
   },
   "outputs": [
    {
     "data": {
      "image/png": "[encoded data removed]",
      "text/plain": [
       "<Figure size 432x288 with 1 Axes>"
      ]
     },
     "metadata": {
      "needs_background": "light"
     },
     "output_type": "display_data"
    }
   ],
   "source": [
    "hist = plt.hist(differences, 100)"
   ]
  },
  {
   "cell_type": "code",
   "execution_count": 61,
   "metadata": {},
   "outputs": [
    {
     "data": {
      "text/plain": [
       "(array([2.99725251e-04, 1.13310766e-03, 1.94455894e-03, 3.36277111e-03,\n",
       "        4.87601810e-03, 8.42154851e-03, 1.26250124e-02, 1.85171722e-02,\n",
       "        2.89710041e-02, 3.68223436e-02, 5.21448833e-02, 7.95733989e-02,\n",
       "        1.20679620e-01, 1.77963695e-01, 2.71075903e-01, 4.22926950e-01,\n",
       "        6.14217453e-01, 7.77282610e-01, 7.19603775e-01, 2.51908108e-01,\n",
       "        5.27808856e-02, 1.31732903e-02, 4.72250029e-03, 3.41394371e-03,\n",
       "        3.12883920e-03, 3.52359929e-03, 2.96070065e-03, 2.60249242e-03,\n",
       "        5.77519386e-04, 7.31037197e-05]),\n",
       " array([-0.30103   , -0.03012321,  0.24078358,  0.51169037,  0.78259716,\n",
       "         1.05350395,  1.32441074,  1.59531753,  1.86622432,  2.13713111,\n",
       "         2.40803789,  2.67894468,  2.94985147,  3.22075826,  3.49166505,\n",
       "         3.76257184,  4.03347863,  4.30438542,  4.57529221,  4.846199  ,\n",
       "         5.11710578,  5.38801257,  5.65891936,  5.92982615,  6.20073294,\n",
       "         6.47163973,  6.74254652,  7.01345331,  7.2843601 ,  7.55526689,\n",
       "         7.82617367]),\n",
       " <a list of 30 Patch objects>)"
      ]
     },
     "execution_count": 61,
     "metadata": {},
     "output_type": "execute_result"
    },
    {
     "data": {
      "image/png": "[encoded data removed]",
      "text/plain": [
       "<Figure size 1440x1080 with 1 Axes>"
      ]
     },
     "metadata": {
      "needs_background": "light"
     },
     "output_type": "display_data"
    }
   ],
   "source": [
    "plt.hist(np.log10(differences_without_0), bins=30, density=True) "
   ]
  },
  {
   "cell_type": "code",
   "execution_count": 46,
   "metadata": {},
   "outputs": [
    {
     "data": {
      "text/plain": [
       "44"
      ]
     },
     "execution_count": 46,
     "metadata": {},
     "output_type": "execute_result"
    }
   ],
   "source": [
    "c = 0\n",
    "for d in differences:\n",
    "    if d == 0:\n",
    "        c = c+1\n",
    "        \n",
    "c"
   ]
  },
  {
   "cell_type": "code",
   "execution_count": 59,
   "metadata": {},
   "outputs": [],
   "source": [
    "differences_without_0 = [abs(d) for d in differences if d != 0]"
   ]
  },
  {
   "cell_type": "code",
   "execution_count": 71,
   "metadata": {},
   "outputs": [
    {
     "data": {
      "text/plain": [
       "504941"
      ]
     },
     "execution_count": 71,
     "metadata": {},
     "output_type": "execute_result"
    }
   ],
   "source": [
    "len(differences_without_0)"
   ]
  },
  {
   "cell_type": "code",
   "execution_count": 65,
   "metadata": {},
   "outputs": [],
   "source": [
    "nodes_sub = [n for n in s_top20 if n in G_pre]\n",
    "nodes_sub = [n for n in nodes_sub if n in G_real]"
   ]
  },
  {
   "cell_type": "code",
   "execution_count": null,
   "metadata": {},
   "outputs": [],
   "source": []
  },
  {
   "cell_type": "code",
   "execution_count": 67,
   "metadata": {},
   "outputs": [],
   "source": [
    "G_pre_sub = G_pre.subgraph(nodes_sub)\n",
    "G_real_sub = G_real.subgraph(nodes_sub)"
   ]
  },
  {
   "cell_type": "code",
   "execution_count": null,
   "metadata": {},
   "outputs": [],
   "source": [
    "plt.hist(np.log10(differences_without_0), bins=30, density=True) "
   ]
  },
  {
   "cell_type": "code",
   "execution_count": 68,
   "metadata": {},
   "outputs": [],
   "source": [
    "edges_sub = [e for e in G_real_sub.edges if e in G_pre_sub.edges]\n",
    "differences_top20 = [(G_real_sub[u][v]['weight'] - G_pre_sub[u][v]['weight']) for (u, v) in edges_sub]"
   ]
  },
  {
   "cell_type": "code",
   "execution_count": 73,
   "metadata": {},
   "outputs": [
    {
     "data": {
      "text/plain": [
       "504985"
      ]
     },
     "execution_count": 73,
     "metadata": {},
     "output_type": "execute_result"
    }
   ],
   "source": [
    "len(edges)"
   ]
  },
  {
   "cell_type": "code",
   "execution_count": 74,
   "metadata": {},
   "outputs": [
    {
     "data": {
      "text/plain": [
       "3860"
      ]
     },
     "execution_count": 74,
     "metadata": {},
     "output_type": "execute_result"
    }
   ],
   "source": [
    "len(edges_sub)"
   ]
  },
  {
   "cell_type": "code",
   "execution_count": 79,
   "metadata": {},
   "outputs": [
    {
     "data": {
      "text/plain": [
       "(array([0.00209589, 0.00733561, 0.00628766, 0.01362327, 0.03039037,\n",
       "        0.03772598, 0.05344514, 0.07126018, 0.06811635, 0.10898616,\n",
       "        0.0859314 , 0.11003411, 0.13518476, 0.17500662, 0.21692438,\n",
       "        0.2724654 , 0.45375969, 0.58370473, 0.64238959, 0.51978016,\n",
       "        0.31019138, 0.11108205, 0.01152738, 0.00523972, 0.00314383,\n",
       "        0.00419178, 0.00104794, 0.00209589, 0.        , 0.00104794]),\n",
       " array([-0.30103   , -0.05375101,  0.19352797,  0.44080695,  0.68808593,\n",
       "         0.93536491,  1.18264389,  1.42992288,  1.67720186,  1.92448084,\n",
       "         2.17175982,  2.4190388 ,  2.66631778,  2.91359676,  3.16087575,\n",
       "         3.40815473,  3.65543371,  3.90271269,  4.14999167,  4.39727065,\n",
       "         4.64454964,  4.89182862,  5.1391076 ,  5.38638658,  5.63366556,\n",
       "         5.88094454,  6.12822353,  6.37550251,  6.62278149,  6.87006047,\n",
       "         7.11733945]),\n",
       " <a list of 30 Patch objects>)"
      ]
     },
     "execution_count": 79,
     "metadata": {},
     "output_type": "execute_result"
    },
    {
     "data": {
      "image/png": "[encoded data removed]",
      "text/plain": [
       "<Figure size 1440x1080 with 1 Axes>"
      ]
     },
     "metadata": {
      "needs_background": "light"
     },
     "output_type": "display_data"
    }
   ],
   "source": [
    "plt.hist(np.log10(differences_without_0), bins=30, density=True, alpha = 0.5) \n",
    "plt.hist(np.log10(differences_top20_without_0), bins=30, density=True, alpha = 0.5) "
   ]
  },
  {
   "cell_type": "markdown",
   "metadata": {},
   "source": [
    "The edge differences for top 20 pertile active nodes latency changes is lower than the global one."
   ]
  },
  {
   "cell_type": "code",
   "execution_count": 75,
   "metadata": {},
   "outputs": [],
   "source": [
    "differences_top20_without_0 = [abs(d) for d in differences_top20 if d != 0]"
   ]
  },
  {
   "cell_type": "code",
   "execution_count": 78,
   "metadata": {},
   "outputs": [
    {
     "data": {
      "text/plain": [
       "3859"
      ]
     },
     "execution_count": 78,
     "metadata": {},
     "output_type": "execute_result"
    }
   ],
   "source": [
    "len(differences_top20_without_0)"
   ]
  },
  {
   "cell_type": "markdown",
   "metadata": {},
   "source": [
    "## TODO\n",
    "1. Racci curvature for first 3 months\n",
    "2. Racci curvature for first 3 months for the top 20 active nodes.\n",
    "\n",
    "### Check if there is any changes "
   ]
  },
  {
   "cell_type": "code",
   "execution_count": 87,
   "metadata": {
    "scrolled": false
   },
   "outputs": [
    {
     "data": {
      "text/plain": [
       "(array([1.0000e+00, 2.0000e+00, 0.0000e+00, 0.0000e+00, 1.0000e+00,\n",
       "        0.0000e+00, 0.0000e+00, 1.0000e+00, 0.0000e+00, 0.0000e+00,\n",
       "        0.0000e+00, 0.0000e+00, 0.0000e+00, 0.0000e+00, 2.0000e+00,\n",
       "        1.0000e+00, 2.0000e+00, 0.0000e+00, 0.0000e+00, 0.0000e+00,\n",
       "        1.0000e+00, 2.0000e+00, 1.0000e+00, 2.0000e+00, 6.0000e+00,\n",
       "        2.0000e+00, 3.0000e+00, 7.0000e+00, 1.2000e+01, 9.0000e+00,\n",
       "        9.0000e+00, 2.2000e+01, 2.4000e+01, 4.0000e+01, 4.7000e+01,\n",
       "        6.3000e+01, 4.1000e+01, 3.6000e+01, 4.7000e+01, 9.3000e+01,\n",
       "        9.2000e+01, 1.1900e+02, 2.1700e+02, 4.5360e+03, 4.9844e+05,\n",
       "        3.0400e+02, 1.6600e+02, 1.0800e+02, 1.1400e+02, 5.8000e+01,\n",
       "        6.3000e+01, 4.7000e+01, 4.9000e+01, 3.3000e+01, 3.5000e+01,\n",
       "        1.4000e+01, 2.1000e+01, 1.7000e+01, 1.0000e+01, 1.2000e+01,\n",
       "        1.3000e+01, 5.0000e+00, 5.0000e+00, 5.0000e+00, 5.0000e+00,\n",
       "        5.0000e+00, 2.0000e+00, 3.0000e+00, 3.0000e+00, 1.0000e+00,\n",
       "        0.0000e+00, 1.0000e+00, 0.0000e+00, 0.0000e+00, 0.0000e+00,\n",
       "        0.0000e+00, 0.0000e+00, 0.0000e+00, 0.0000e+00, 0.0000e+00,\n",
       "        0.0000e+00, 0.0000e+00, 0.0000e+00, 0.0000e+00, 1.0000e+00,\n",
       "        0.0000e+00, 0.0000e+00, 0.0000e+00, 0.0000e+00, 0.0000e+00,\n",
       "        0.0000e+00, 3.0000e+00, 0.0000e+00, 0.0000e+00, 0.0000e+00,\n",
       "        0.0000e+00, 0.0000e+00, 0.0000e+00, 0.0000e+00, 1.0000e+00]),\n",
       " array([-52892296.        , -51693220.49      , -50494144.98      ,\n",
       "        -49295069.47      , -48095993.96      , -46896918.45      ,\n",
       "        -45697842.94      , -44498767.43      , -43299691.92      ,\n",
       "        -42100616.41      , -40901540.9       , -39702465.39      ,\n",
       "        -38503389.88      , -37304314.37      , -36105238.86      ,\n",
       "        -34906163.35      , -33707087.84      , -32508012.33      ,\n",
       "        -31308936.82      , -30109861.31      , -28910785.8       ,\n",
       "        -27711710.29      , -26512634.78      , -25313559.27      ,\n",
       "        -24114483.76      , -22915408.25      , -21716332.74      ,\n",
       "        -20517257.23      , -19318181.72      , -18119106.21      ,\n",
       "        -16920030.7       , -15720955.19      , -14521879.68      ,\n",
       "        -13322804.17      , -12123728.66      , -10924653.15      ,\n",
       "         -9725577.64      ,  -8526502.13      ,  -7327426.62      ,\n",
       "         -6128351.11      ,  -4929275.6       ,  -3730200.09      ,\n",
       "         -2531124.58      ,  -1332049.07      ,   -132973.56      ,\n",
       "          1066101.95      ,   2265177.46      ,   3464252.97      ,\n",
       "          4663328.48      ,   5862403.99      ,   7061479.5       ,\n",
       "          8260555.01      ,   9459630.52      ,  10658706.03      ,\n",
       "         11857781.54      ,  13056857.05      ,  14255932.56      ,\n",
       "         15455008.07000001,  16654083.58      ,  17853159.09      ,\n",
       "         19052234.59999999,  20251310.11      ,  21450385.62      ,\n",
       "         22649461.13      ,  23848536.64      ,  25047612.15000001,\n",
       "         26246687.66      ,  27445763.17      ,  28644838.68000001,\n",
       "         29843914.19      ,  31042989.7       ,  32242065.20999999,\n",
       "         33441140.72      ,  34640216.23      ,  35839291.73999999,\n",
       "         37038367.25      ,  38237442.76000001,  39436518.27      ,\n",
       "         40635593.78      ,  41834669.29000001,  43033744.8       ,\n",
       "         44232820.31      ,  45431895.82000001,  46630971.33      ,\n",
       "         47830046.84      ,  49029122.34999999,  50228197.86      ,\n",
       "         51427273.37      ,  52626348.88      ,  53825424.39      ,\n",
       "         55024499.90000001,  56223575.41      ,  57422650.92      ,\n",
       "         58621726.43000001,  59820801.94      ,  61019877.45      ,\n",
       "         62218952.96000001,  63418028.47      ,  64617103.98      ,\n",
       "         65816179.48999999,  67015255.        ]),\n",
       " <a list of 100 Patch objects>)"
      ]
     },
     "execution_count": 87,
     "metadata": {},
     "output_type": "execute_result"
    }
   ],
   "source": [
    "hist"
   ]
  },
  {
   "cell_type": "code",
   "execution_count": 88,
   "metadata": {},
   "outputs": [],
   "source": [
    "x = hist[1]"
   ]
  },
  {
   "cell_type": "code",
   "execution_count": 89,
   "metadata": {},
   "outputs": [
    {
     "data": {
      "text/plain": [
       "(-132973.56000000238, 1066101.950000003)"
      ]
     },
     "execution_count": 89,
     "metadata": {},
     "output_type": "execute_result"
    }
   ],
   "source": [
    "range_nxt = (x[44], x[45])\n",
    "\n",
    "range_nxt"
   ]
  },
  {
   "cell_type": "code",
   "execution_count": 90,
   "metadata": {},
   "outputs": [],
   "source": [
    "hist_nxt = [d for d in differences if d >= x[44] and d <= x[45]]"
   ]
  },
  {
   "cell_type": "code",
   "execution_count": 91,
   "metadata": {
    "scrolled": false
   },
   "outputs": [
    {
     "data": {
      "image/png": "[encoded data removed]",
      "text/plain": [
       "<Figure size 432x288 with 1 Axes>"
      ]
     },
     "metadata": {
      "needs_background": "light"
     },
     "output_type": "display_data"
    }
   ],
   "source": [
    "hist = plt.hist(hist_nxt, 100)"
   ]
  },
  {
   "cell_type": "markdown",
   "metadata": {},
   "source": [
    "### Check if the next graph share similar pattern"
   ]
  },
  {
   "cell_type": "code",
   "execution_count": 92,
   "metadata": {
    "scrolled": false
   },
   "outputs": [
    {
     "data": {
      "image/png": "[encoded data removed]",
      "text/plain": [
       "<Figure size 432x288 with 1 Axes>"
      ]
     },
     "metadata": {
      "needs_background": "light"
     },
     "output_type": "display_data"
    }
   ],
   "source": [
    "x = hist[1]\n",
    "hist_nxt = [d for d in differences if d >= x[0] and d <= x[24]]\n",
    "hist = plt.hist(hist_nxt, 100)"
   ]
  },
  {
   "cell_type": "code",
   "execution_count": null,
   "metadata": {},
   "outputs": [],
   "source": []
  },
  {
   "cell_type": "code",
   "execution_count": 73,
   "metadata": {},
   "outputs": [
    {
     "data": {
      "text/plain": [
       "(array([9.98000e+02, 1.67300e+03, 2.48600e+03, 4.03700e+03, 6.75700e+03,\n",
       "        1.19670e+04, 1.92390e+04, 2.86110e+04, 3.71220e+04, 5.08160e+04,\n",
       "        7.67520e+04, 1.05467e+05, 4.83720e+04, 3.36560e+04, 2.26630e+04,\n",
       "        1.54640e+04, 1.07000e+04, 7.32800e+03, 4.01500e+03, 2.25500e+03,\n",
       "        1.49800e+03, 1.20500e+03, 8.64000e+02, 7.94000e+02, 5.71000e+02,\n",
       "        5.37000e+02, 4.75000e+02, 3.59000e+02, 2.43000e+02, 1.95000e+02,\n",
       "        1.87000e+02, 1.16000e+02, 1.11000e+02, 5.40000e+01, 7.20000e+01,\n",
       "        6.10000e+01, 6.10000e+01, 4.10000e+01, 4.70000e+01, 5.00000e+01,\n",
       "        4.40000e+01, 3.80000e+01, 2.40000e+01, 3.60000e+01, 2.50000e+01,\n",
       "        1.40000e+01, 1.80000e+01, 1.50000e+01, 1.40000e+01, 6.00000e+00,\n",
       "        1.60000e+01, 1.70000e+01, 1.20000e+01, 9.00000e+00, 1.00000e+01,\n",
       "        1.20000e+01, 1.00000e+01, 6.00000e+00, 9.00000e+00, 9.00000e+00,\n",
       "        6.00000e+00, 9.00000e+00, 4.00000e+00, 8.00000e+00, 6.00000e+00,\n",
       "        1.10000e+01, 4.00000e+00, 3.00000e+00, 7.00000e+00, 4.00000e+00,\n",
       "        8.00000e+00, 7.00000e+00, 5.00000e+00, 7.00000e+00, 1.00000e+00,\n",
       "        3.00000e+00, 6.00000e+00, 6.00000e+00, 4.00000e+00, 2.00000e+00,\n",
       "        6.00000e+00, 2.00000e+00, 2.00000e+00, 8.00000e+00, 1.00000e+00,\n",
       "        6.00000e+00, 5.00000e+00, 1.00000e+00, 2.00000e+00, 6.00000e+00,\n",
       "        2.00000e+00, 3.00000e+00, 3.00000e+00, 1.00000e+00, 3.00000e+00,\n",
       "        4.00000e+00, 0.00000e+00, 1.00000e+00, 4.00000e+00, 6.00000e+00]),\n",
       " array([-132933.   , -121012.045, -109091.09 ,  -97170.135,  -85249.18 ,\n",
       "         -73328.225,  -61407.27 ,  -49486.315,  -37565.36 ,  -25644.405,\n",
       "         -13723.45 ,   -1802.495,   10118.46 ,   22039.415,   33960.37 ,\n",
       "          45881.325,   57802.28 ,   69723.235,   81644.19 ,   93565.145,\n",
       "         105486.1  ,  117407.055,  129328.01 ,  141248.965,  153169.92 ,\n",
       "         165090.875,  177011.83 ,  188932.785,  200853.74 ,  212774.695,\n",
       "         224695.65 ,  236616.605,  248537.56 ,  260458.515,  272379.47 ,\n",
       "         284300.425,  296221.38 ,  308142.335,  320063.29 ,  331984.245,\n",
       "         343905.2  ,  355826.155,  367747.11 ,  379668.065,  391589.02 ,\n",
       "         403509.975,  415430.93 ,  427351.885,  439272.84 ,  451193.795,\n",
       "         463114.75 ,  475035.705,  486956.66 ,  498877.615,  510798.57 ,\n",
       "         522719.525,  534640.48 ,  546561.435,  558482.39 ,  570403.345,\n",
       "         582324.3  ,  594245.255,  606166.21 ,  618087.165,  630008.12 ,\n",
       "         641929.075,  653850.03 ,  665770.985,  677691.94 ,  689612.895,\n",
       "         701533.85 ,  713454.805,  725375.76 ,  737296.715,  749217.67 ,\n",
       "         761138.625,  773059.58 ,  784980.535,  796901.49 ,  808822.445,\n",
       "         820743.4  ,  832664.355,  844585.31 ,  856506.265,  868427.22 ,\n",
       "         880348.175,  892269.13 ,  904190.085,  916111.04 ,  928031.995,\n",
       "         939952.95 ,  951873.905,  963794.86 ,  975715.815,  987636.77 ,\n",
       "         999557.725, 1011478.68 , 1023399.635, 1035320.59 , 1047241.545,\n",
       "        1059162.5  ]),\n",
       " <a list of 100 Patch objects>)"
      ]
     },
     "execution_count": 73,
     "metadata": {},
     "output_type": "execute_result"
    }
   ],
   "source": [
    "hist"
   ]
  },
  {
   "cell_type": "code",
   "execution_count": 75,
   "metadata": {},
   "outputs": [],
   "source": [
    "def zoom_hist(hist, differences, range_i_l, range_i_r, n_bins):\n",
    "    x = hist[1]\n",
    "    print(\"range: \" + str(x[range_i_l]) + \", \" + str(x[range_i_r]))\n",
    "    hist_nxt = [d for d in differences if d >= x[range_i_l] and d <= x[range_i_l]]\n",
    "    \n",
    "    print(hist_nxt)\n",
    "    \n",
    "    hist = plt.hist(hist_nxt, n_bins)\n",
    "    print(hist)\n",
    "    return hist"
   ]
  },
  {
   "cell_type": "code",
   "execution_count": 79,
   "metadata": {
    "collapsed": true
   },
   "outputs": [
    {
     "data": {
      "text/plain": [
       "[73.0,\n",
       " -4.0,\n",
       " 126.0,\n",
       " 4.0,\n",
       " -11.0,\n",
       " 7894.0,\n",
       " -12.0,\n",
       " -4.0,\n",
       " -6.0,\n",
       " 3.0,\n",
       " 3.5,\n",
       " -5.0,\n",
       " 5.0,\n",
       " -5.0,\n",
       " -52.0,\n",
       " 0.0,\n",
       " -1754.5,\n",
       " -127.0,\n",
       " -5.0,\n",
       " 9.5,\n",
       " 3.0,\n",
       " 4.0,\n",
       " 10.5,\n",
       " 203.0,\n",
       " -28.5,\n",
       " 131.0,\n",
       " -158.0,\n",
       " 2958.0,\n",
       " -1421.0,\n",
       " 6704.5,\n",
       " -998.5,\n",
       " 10.0,\n",
       " -4.0,\n",
       " -1408.0,\n",
       " -450.5,\n",
       " -632.5,\n",
       " 143.5,\n",
       " 25.5,\n",
       " 2210.0,\n",
       " -9.0,\n",
       " 149.5,\n",
       " 25.5,\n",
       " 41.0,\n",
       " 396.0,\n",
       " -205.0,\n",
       " 52.0,\n",
       " 8.5,\n",
       " 1284.0,\n",
       " 0.0,\n",
       " 0.0,\n",
       " -54.5,\n",
       " -1.0,\n",
       " -3.5,\n",
       " -41.5,\n",
       " -9.5,\n",
       " 85.0,\n",
       " -163.5,\n",
       " 5180.0,\n",
       " 5186.0,\n",
       " 5999.5,\n",
       " 7749.0,\n",
       " 623.5,\n",
       " 8285.5,\n",
       " 4489.0,\n",
       " 8443.5,\n",
       " 1281.0,\n",
       " 63.0,\n",
       " 6789.0,\n",
       " 4647.5,\n",
       " 6108.0,\n",
       " 843.0,\n",
       " 2165.0,\n",
       " 1232.0,\n",
       " 1481.0,\n",
       " 5432.0,\n",
       " 65.5,\n",
       " 1674.5,\n",
       " 1009.0,\n",
       " -218.0,\n",
       " 2667.5,\n",
       " -1611.5,\n",
       " 6266.5,\n",
       " 1405.5,\n",
       " 1677.5,\n",
       " 4922.0,\n",
       " 4741.0,\n",
       " -513.5,\n",
       " -836.0,\n",
       " 2583.5,\n",
       " 79.0,\n",
       " 6016.5,\n",
       " 2386.0,\n",
       " 847.0,\n",
       " 588.0,\n",
       " 803.0,\n",
       " 3940.5,\n",
       " 2190.5,\n",
       " 658.0,\n",
       " 5244.0,\n",
       " 1314.0,\n",
       " -942.5,\n",
       " 2654.0,\n",
       " 1500.5,\n",
       " 167.5,\n",
       " 4122.0,\n",
       " 1356.0,\n",
       " 453.0,\n",
       " 10027.5,\n",
       " 830.0,\n",
       " -49.0,\n",
       " -1358.5,\n",
       " 9416.5,\n",
       " 4318.0,\n",
       " 3197.0,\n",
       " -345.0,\n",
       " 2049.0,\n",
       " -1264.0,\n",
       " 1252.0,\n",
       " 4314.0,\n",
       " -402.5,\n",
       " 5847.5,\n",
       " 5907.0,\n",
       " -11.5,\n",
       " 3988.5,\n",
       " 2359.0,\n",
       " 985.0,\n",
       " 60.5,\n",
       " 8133.5,\n",
       " -1765.5,\n",
       " 739.0,\n",
       " 6645.0,\n",
       " -249.0,\n",
       " 2794.0,\n",
       " 230.0,\n",
       " 1812.5,\n",
       " 2344.0,\n",
       " -404.0,\n",
       " 3735.0,\n",
       " 6923.5,\n",
       " 2376.0,\n",
       " 1799.5,\n",
       " 1575.0,\n",
       " 1306.5,\n",
       " 9599.5,\n",
       " 2177.0,\n",
       " 4939.5,\n",
       " 1782.0,\n",
       " 4339.5,\n",
       " 1255.5,\n",
       " 1085.5,\n",
       " 5645.0,\n",
       " 3219.0,\n",
       " 4.5,\n",
       " 4522.5,\n",
       " -331.0,\n",
       " 5228.0,\n",
       " -152.0,\n",
       " 4295.5,\n",
       " 7.0,\n",
       " 682.0,\n",
       " -722.5,\n",
       " -554.0,\n",
       " 5074.5,\n",
       " 3007.5,\n",
       " 310.5,\n",
       " -1760.5,\n",
       " 418.0,\n",
       " 655.0,\n",
       " 2053.0,\n",
       " 3008.5,\n",
       " 5046.5,\n",
       " 8810.5,\n",
       " 2637.0,\n",
       " 261.0,\n",
       " 4425.0,\n",
       " 8696.0,\n",
       " 4497.5,\n",
       " 3145.5,\n",
       " 2351.0,\n",
       " 3568.5,\n",
       " 367.0,\n",
       " 4681.5,\n",
       " -1287.0,\n",
       " 3559.5,\n",
       " 1430.0,\n",
       " 2685.5,\n",
       " 3818.0,\n",
       " 3194.0,\n",
       " 2750.0,\n",
       " 4046.5,\n",
       " -983.5,\n",
       " 5057.0,\n",
       " 895.0,\n",
       " -147.0,\n",
       " 6636.5,\n",
       " 5065.0,\n",
       " 754.5,\n",
       " -239.0,\n",
       " 2762.0,\n",
       " 1715.0,\n",
       " -82.0,\n",
       " 6274.5,\n",
       " 2743.5,\n",
       " 5580.0,\n",
       " 6273.0,\n",
       " -290.0,\n",
       " -183.0,\n",
       " -199.5,\n",
       " 8070.5,\n",
       " 2644.5,\n",
       " 71.0,\n",
       " 7941.0,\n",
       " -391.5,\n",
       " 2674.5,\n",
       " 5459.5,\n",
       " 1452.5,\n",
       " 2503.0,\n",
       " 4770.5,\n",
       " 4532.0,\n",
       " 4799.5,\n",
       " 3886.0,\n",
       " 3408.0,\n",
       " 2811.5,\n",
       " 480.0,\n",
       " 1555.5,\n",
       " 1433.5,\n",
       " 3231.0,\n",
       " 1229.0,\n",
       " 628.0,\n",
       " 2033.5,\n",
       " 4085.0,\n",
       " 4527.0,\n",
       " 5118.5,\n",
       " 8546.5,\n",
       " 4891.0,\n",
       " 254.5,\n",
       " 3920.5,\n",
       " -500.0,\n",
       " 3091.5,\n",
       " -794.5,\n",
       " 8458.0,\n",
       " 4925.0,\n",
       " 780.5,\n",
       " -372.0,\n",
       " 593.0,\n",
       " 45.0,\n",
       " 4460.0,\n",
       " 3455.0,\n",
       " -850.5,\n",
       " 6072.0,\n",
       " 1584.0,\n",
       " -1673.0,\n",
       " -709.0,\n",
       " -495.5,\n",
       " 2313.0,\n",
       " -145.0,\n",
       " 3286.5,\n",
       " 937.0,\n",
       " 6619.5,\n",
       " 1137.0,\n",
       " 124.0,\n",
       " 1825.0,\n",
       " 3039.0,\n",
       " 2342.0,\n",
       " 8877.5,\n",
       " 1290.5,\n",
       " 4868.0,\n",
       " 1521.5,\n",
       " 1170.0,\n",
       " 960.5,\n",
       " 1944.5,\n",
       " 1190.0,\n",
       " 379.5,\n",
       " 4264.5,\n",
       " -115.5,\n",
       " 5186.0,\n",
       " 7151.0,\n",
       " 188.5,\n",
       " 8706.0,\n",
       " 6155.0,\n",
       " 1720.0,\n",
       " 4808.5,\n",
       " 3096.0,\n",
       " -1527.5,\n",
       " -668.0,\n",
       " 258.5,\n",
       " 656.5,\n",
       " 4944.0,\n",
       " 436.0,\n",
       " -515.0,\n",
       " -1492.0,\n",
       " -630.5,\n",
       " 1386.0,\n",
       " 369.0,\n",
       " 4821.5,\n",
       " 4854.0,\n",
       " 4378.0,\n",
       " 2322.5,\n",
       " 1872.0,\n",
       " 5431.5,\n",
       " -824.5,\n",
       " 4728.5,\n",
       " 3994.5,\n",
       " -42.5,\n",
       " 74.0,\n",
       " 3354.5,\n",
       " 7463.5,\n",
       " 4750.5,\n",
       " -883.5,\n",
       " 5963.5,\n",
       " 643.0,\n",
       " 4507.5,\n",
       " 7212.5,\n",
       " -1781.0,\n",
       " 1730.0,\n",
       " 962.0,\n",
       " 4725.0,\n",
       " 117.0,\n",
       " 6864.0,\n",
       " 9165.0,\n",
       " 3905.0,\n",
       " 140.0,\n",
       " 3782.0,\n",
       " 7177.0,\n",
       " 3245.0,\n",
       " 1133.0,\n",
       " 5907.0,\n",
       " 82.0,\n",
       " 5165.0,\n",
       " 7668.0,\n",
       " 5070.0,\n",
       " 6230.0,\n",
       " 1369.0,\n",
       " 4834.5,\n",
       " 2300.5,\n",
       " 5464.5,\n",
       " 5188.5,\n",
       " 5652.0,\n",
       " 5808.0,\n",
       " 8209.0,\n",
       " 6059.0,\n",
       " -547.0,\n",
       " 9977.0,\n",
       " 9106.5,\n",
       " 10035.5,\n",
       " 5255.0,\n",
       " 2124.5,\n",
       " -557.5,\n",
       " 2616.5,\n",
       " 2503.0,\n",
       " -286.5,\n",
       " -277.5,\n",
       " 1424.0,\n",
       " -58.0,\n",
       " -694.0,\n",
       " 7090.0,\n",
       " -126.0,\n",
       " -21.0,\n",
       " 5183.0,\n",
       " -1462.5,\n",
       " 6039.0,\n",
       " 4163.5,\n",
       " 4130.0,\n",
       " -154.0,\n",
       " 6271.0,\n",
       " 9460.0,\n",
       " -143.5,\n",
       " 4466.0,\n",
       " 3484.5,\n",
       " 5098.0,\n",
       " -11.0,\n",
       " 129.0,\n",
       " 4461.5,\n",
       " -109.0,\n",
       " 10094.0,\n",
       " -426.5,\n",
       " 5604.0,\n",
       " 3241.5,\n",
       " -475.0,\n",
       " -1498.0,\n",
       " 6522.0,\n",
       " 4612.0,\n",
       " 3882.0,\n",
       " 8476.0,\n",
       " 7883.0,\n",
       " 5048.5,\n",
       " -1157.0,\n",
       " 6611.0,\n",
       " 197.0,\n",
       " 5703.0,\n",
       " 320.0,\n",
       " -961.5,\n",
       " 3541.0,\n",
       " 9665.0,\n",
       " 3351.5,\n",
       " -329.0,\n",
       " 2413.0,\n",
       " 5926.0,\n",
       " -30.0,\n",
       " 3689.0,\n",
       " 3084.5,\n",
       " 54.0,\n",
       " 9343.0,\n",
       " 2413.0,\n",
       " 4313.5,\n",
       " 4801.0,\n",
       " 1699.0,\n",
       " 5498.0,\n",
       " 5778.0,\n",
       " 72.0,\n",
       " 46.0,\n",
       " 418.5,\n",
       " 1138.0,\n",
       " -214.0,\n",
       " 121.5,\n",
       " -848.0,\n",
       " 220.0,\n",
       " -60.0,\n",
       " 9480.0,\n",
       " -573.0,\n",
       " 19.0,\n",
       " 5754.0,\n",
       " 5899.5,\n",
       " -1012.5,\n",
       " 47.0,\n",
       " -63.5,\n",
       " 1002.0,\n",
       " 80.5,\n",
       " 7330.5,\n",
       " 121.0,\n",
       " -985.0,\n",
       " -1678.0,\n",
       " -1096.0,\n",
       " 112.0,\n",
       " -5.0,\n",
       " -717.0,\n",
       " 6737.0,\n",
       " -1136.5,\n",
       " 98.0,\n",
       " -35.0,\n",
       " 9646.5,\n",
       " 3027.0,\n",
       " -141.0,\n",
       " 6432.0,\n",
       " -1303.0,\n",
       " -942.0,\n",
       " 921.5,\n",
       " 1735.0,\n",
       " -68.0,\n",
       " 1234.5,\n",
       " 5548.5,\n",
       " 2062.0,\n",
       " 3001.5,\n",
       " -616.5,\n",
       " 5182.0,\n",
       " -882.0,\n",
       " -225.0,\n",
       " 6873.0,\n",
       " -1118.0,\n",
       " -1048.5,\n",
       " 6963.5,\n",
       " 704.0,\n",
       " 2114.0,\n",
       " 6455.5,\n",
       " 4844.5,\n",
       " 4486.5,\n",
       " 1355.0,\n",
       " 6604.0,\n",
       " 9132.0,\n",
       " 8041.0,\n",
       " 6774.0,\n",
       " 4694.0,\n",
       " 3287.0,\n",
       " 39.0,\n",
       " -1020.0,\n",
       " 122.0,\n",
       " -1070.0,\n",
       " 22.0,\n",
       " -19.5,\n",
       " -664.0,\n",
       " -863.0,\n",
       " 50.0,\n",
       " 31.5,\n",
       " -1.5,\n",
       " 2981.5,\n",
       " -1510.0,\n",
       " -756.0,\n",
       " -1081.0,\n",
       " 83.0,\n",
       " -4.5,\n",
       " -992.0,\n",
       " 94.0,\n",
       " -21.0,\n",
       " 767.0,\n",
       " -1404.0,\n",
       " 4945.5,\n",
       " 4928.0,\n",
       " -966.0,\n",
       " -1132.0,\n",
       " 7337.0,\n",
       " 44.0,\n",
       " 2459.0,\n",
       " -1384.0,\n",
       " 5937.0,\n",
       " 6422.5,\n",
       " -1408.0,\n",
       " 2820.0,\n",
       " 3665.0,\n",
       " 271.5,\n",
       " 203.0,\n",
       " -145.0,\n",
       " -955.0,\n",
       " -456.5,\n",
       " -57.0,\n",
       " 4076.5,\n",
       " 6932.0,\n",
       " 4553.0,\n",
       " 5160.0,\n",
       " 338.0,\n",
       " 307.0,\n",
       " 598.0,\n",
       " 3782.0,\n",
       " -1283.0,\n",
       " -151.5,\n",
       " 659.0,\n",
       " -80.0,\n",
       " 1293.5,\n",
       " -1249.5,\n",
       " 2248.0,\n",
       " 157.0,\n",
       " 9689.0,\n",
       " 5426.0,\n",
       " 5328.5,\n",
       " 48.5,\n",
       " 7289.0,\n",
       " 3261.0,\n",
       " 4284.0,\n",
       " 10090.0,\n",
       " 4469.0,\n",
       " -614.0,\n",
       " -1216.5,\n",
       " -1504.0,\n",
       " 1132.0,\n",
       " 1290.5,\n",
       " 986.5,\n",
       " 2614.0,\n",
       " 1807.5,\n",
       " 3605.0,\n",
       " -607.0,\n",
       " 8133.0,\n",
       " 2331.0,\n",
       " -1254.5,\n",
       " -758.5,\n",
       " -1119.5,\n",
       " 6773.0,\n",
       " -395.5,\n",
       " -1250.5,\n",
       " 256.5,\n",
       " -185.0,\n",
       " 526.0,\n",
       " 8513.0,\n",
       " 3738.0,\n",
       " 2787.5,\n",
       " -218.0,\n",
       " 1319.0,\n",
       " 843.0,\n",
       " 46.0,\n",
       " 3949.0,\n",
       " 3307.0,\n",
       " 301.5,\n",
       " -893.0,\n",
       " 1251.5,\n",
       " -1256.5,\n",
       " -1800.0,\n",
       " 21.0,\n",
       " 3520.0,\n",
       " 8914.0,\n",
       " 3667.0,\n",
       " 318.5,\n",
       " -467.0,\n",
       " 7629.0,\n",
       " -753.0,\n",
       " -636.0,\n",
       " -1526.5,\n",
       " 1132.0,\n",
       " -226.5,\n",
       " 70.5,\n",
       " -403.5,\n",
       " -500.0,\n",
       " -257.0,\n",
       " -1648.5,\n",
       " 6373.5,\n",
       " -539.0,\n",
       " -399.5,\n",
       " -294.0,\n",
       " -313.5,\n",
       " -1432.5,\n",
       " -1156.5,\n",
       " 2067.0,\n",
       " -1156.5,\n",
       " 5665.5,\n",
       " 8050.5,\n",
       " 2398.0,\n",
       " 9551.0,\n",
       " 9988.0,\n",
       " 8294.0,\n",
       " 253.0,\n",
       " -1149.0,\n",
       " -63.0,\n",
       " 255.0,\n",
       " 1524.0,\n",
       " 2704.0,\n",
       " 53.0,\n",
       " 1528.0,\n",
       " 6860.5,\n",
       " -1720.5,\n",
       " 5460.5,\n",
       " 70.0,\n",
       " 6455.5,\n",
       " -424.0,\n",
       " 1407.0,\n",
       " 4783.0,\n",
       " 6266.0,\n",
       " 7913.0,\n",
       " 8233.0,\n",
       " -673.0,\n",
       " 4224.0,\n",
       " 245.0,\n",
       " 4969.0,\n",
       " 5360.0,\n",
       " -168.0,\n",
       " 1996.0,\n",
       " 6055.0,\n",
       " -697.5,\n",
       " 3308.0,\n",
       " -908.5,\n",
       " 8584.0,\n",
       " 1081.0,\n",
       " 2026.0,\n",
       " 694.0,\n",
       " 422.0,\n",
       " 1280.5,\n",
       " -77.0,\n",
       " 8891.0,\n",
       " -948.0,\n",
       " 8976.5,\n",
       " -1674.0,\n",
       " -664.5,\n",
       " 5451.0,\n",
       " 5527.0,\n",
       " 3638.5,\n",
       " 1870.0,\n",
       " -148.5,\n",
       " -1298.0,\n",
       " 624.0,\n",
       " 1521.5,\n",
       " 1158.0,\n",
       " 7430.0,\n",
       " 2782.0,\n",
       " 6108.5,\n",
       " -1183.0,\n",
       " 4453.5,\n",
       " 7325.5,\n",
       " 5601.0,\n",
       " 3995.0,\n",
       " 7200.5,\n",
       " 10083.5,\n",
       " 2207.0,\n",
       " 4048.5,\n",
       " 7811.0,\n",
       " 1478.0,\n",
       " -1101.5,\n",
       " -237.5,\n",
       " -84.5,\n",
       " -1149.5,\n",
       " -403.5,\n",
       " -501.0,\n",
       " -102.5,\n",
       " 5917.0,\n",
       " -1583.5,\n",
       " 5476.5,\n",
       " 1083.0,\n",
       " 5420.5,\n",
       " -783.0,\n",
       " -395.0,\n",
       " 1137.0,\n",
       " 9118.5,\n",
       " 7986.5,\n",
       " 7756.5,\n",
       " 3858.0,\n",
       " 7254.5,\n",
       " 6572.0,\n",
       " 883.0,\n",
       " 312.0,\n",
       " 3521.0,\n",
       " 2038.0,\n",
       " -1277.0,\n",
       " 6467.5,\n",
       " 5226.0,\n",
       " 3713.5,\n",
       " 837.0,\n",
       " 2964.0,\n",
       " 12.0,\n",
       " -1186.0,\n",
       " -196.5,\n",
       " 6507.0,\n",
       " 2625.0,\n",
       " 8391.0,\n",
       " 1295.0,\n",
       " 2847.5,\n",
       " 6204.0,\n",
       " 362.0,\n",
       " -1791.5,\n",
       " 9565.0,\n",
       " -93.0,\n",
       " 4090.0,\n",
       " 7639.5,\n",
       " 8488.5,\n",
       " 9171.0,\n",
       " -1049.5,\n",
       " -189.0,\n",
       " -369.0,\n",
       " 5230.0,\n",
       " 4338.5,\n",
       " 9589.5,\n",
       " 8499.5,\n",
       " -572.0,\n",
       " -740.5,\n",
       " -1237.0,\n",
       " 2521.0,\n",
       " -329.5,\n",
       " 2712.5,\n",
       " -615.0,\n",
       " 2639.0,\n",
       " 8680.0,\n",
       " 3061.0,\n",
       " 756.0,\n",
       " -233.0,\n",
       " 4390.5,\n",
       " 6507.0,\n",
       " 3914.5,\n",
       " -1476.5,\n",
       " 539.0,\n",
       " 8189.5,\n",
       " 9283.5,\n",
       " -72.5,\n",
       " -881.0,\n",
       " 10026.5,\n",
       " -559.0,\n",
       " 2150.0,\n",
       " -223.0,\n",
       " 1327.5,\n",
       " 1354.0,\n",
       " 1376.5,\n",
       " -100.5,\n",
       " -771.0,\n",
       " -656.5,\n",
       " -1016.0,\n",
       " 996.5,\n",
       " 2120.5,\n",
       " 7761.0,\n",
       " 9727.0,\n",
       " 1394.0,\n",
       " 966.0,\n",
       " 535.5,\n",
       " -1022.5,\n",
       " 1124.0,\n",
       " 8687.5,\n",
       " -226.5,\n",
       " -1660.0,\n",
       " 1316.5,\n",
       " 1332.0,\n",
       " 3075.5,\n",
       " -572.0,\n",
       " 649.5,\n",
       " 2888.5,\n",
       " -36.0,\n",
       " -1634.0,\n",
       " 3090.5,\n",
       " 4367.0,\n",
       " -1078.5,\n",
       " -172.5,\n",
       " -1053.5,\n",
       " -382.0,\n",
       " 219.0,\n",
       " 1187.0,\n",
       " -1751.0,\n",
       " -1340.0,\n",
       " 1888.0,\n",
       " 1314.0,\n",
       " 6653.0,\n",
       " -910.5,\n",
       " 6133.0,\n",
       " 1468.0,\n",
       " -940.0,\n",
       " -234.5,\n",
       " -836.0,\n",
       " 8541.5,\n",
       " 2277.0,\n",
       " 1361.0,\n",
       " -522.5,\n",
       " 948.0,\n",
       " 457.0,\n",
       " 1401.0,\n",
       " 756.5,\n",
       " 9307.0,\n",
       " 8098.0,\n",
       " 4472.0,\n",
       " -287.0,\n",
       " 119.5,\n",
       " -782.5,\n",
       " 2447.5,\n",
       " 758.0,\n",
       " 4543.5,\n",
       " -24.0,\n",
       " 9106.5,\n",
       " 5765.0,\n",
       " 7716.5,\n",
       " -178.0,\n",
       " 3156.0,\n",
       " 2832.0,\n",
       " 9397.0,\n",
       " 550.5,\n",
       " 3765.0,\n",
       " -508.0,\n",
       " 8642.5,\n",
       " 1231.0,\n",
       " -415.0,\n",
       " -1732.0,\n",
       " 7767.5,\n",
       " -216.0,\n",
       " 8874.5,\n",
       " -1370.5,\n",
       " 104.5,\n",
       " 715.0,\n",
       " 1993.5,\n",
       " -1049.0,\n",
       " 1353.5,\n",
       " 1726.5,\n",
       " -173.5,\n",
       " -1059.0,\n",
       " -1020.5,\n",
       " 2285.0,\n",
       " 2084.0,\n",
       " 709.5,\n",
       " 1768.0,\n",
       " 1903.0,\n",
       " 61.5,\n",
       " -831.0,\n",
       " -2.0,\n",
       " -1173.5,\n",
       " -1085.5,\n",
       " -588.5,\n",
       " -641.0,\n",
       " 1466.0,\n",
       " -1601.0,\n",
       " -739.0,\n",
       " 9825.5,\n",
       " 1595.0,\n",
       " 575.0,\n",
       " -521.5,\n",
       " 5222.0,\n",
       " 390.0,\n",
       " 478.0,\n",
       " 3088.0,\n",
       " 2853.5,\n",
       " 3825.0,\n",
       " -705.0,\n",
       " -111.5,\n",
       " 1065.0,\n",
       " 2612.0,\n",
       " 2373.5,\n",
       " 1921.0,\n",
       " -1175.0,\n",
       " -1073.5,\n",
       " 86.0,\n",
       " 6586.5,\n",
       " -783.5,\n",
       " 4857.5,\n",
       " 6481.0,\n",
       " 970.0,\n",
       " 8673.5,\n",
       " -1618.0,\n",
       " 4006.0,\n",
       " 353.0,\n",
       " 347.5,\n",
       " 317.0,\n",
       " 4446.0,\n",
       " 650.0,\n",
       " 2914.0,\n",
       " -1365.0,\n",
       " 1584.5,\n",
       " -531.0,\n",
       " 3013.0,\n",
       " -1322.5,\n",
       " 692.0,\n",
       " -812.5,\n",
       " 64.0,\n",
       " 2103.0,\n",
       " 447.5,\n",
       " 4318.5,\n",
       " 2852.5,\n",
       " 4657.5,\n",
       " 1504.0,\n",
       " -1637.0,\n",
       " 9974.0,\n",
       " 5367.0,\n",
       " 4860.5,\n",
       " 2046.5,\n",
       " 3900.5,\n",
       " -1026.0,\n",
       " 1194.0,\n",
       " 1343.0,\n",
       " -819.0,\n",
       " -786.5,\n",
       " 2110.0,\n",
       " 2186.0,\n",
       " 550.5,\n",
       " 741.5,\n",
       " -1135.0,\n",
       " 2307.0,\n",
       " 4638.0,\n",
       " 2808.0,\n",
       " 6172.5,\n",
       " -664.5,\n",
       " -891.0,\n",
       " 5397.0,\n",
       " 1235.0,\n",
       " -891.0,\n",
       " -1130.0,\n",
       " -520.0,\n",
       " 6275.5,\n",
       " 1329.5,\n",
       " -1219.5,\n",
       " 2790.0,\n",
       " 5004.0,\n",
       " 85.0,\n",
       " 191.5,\n",
       " 858.0,\n",
       " 3083.5,\n",
       " 6841.0,\n",
       " -1218.5,\n",
       " 8812.0,\n",
       " -290.5,\n",
       " 685.5,\n",
       " -191.5,\n",
       " -496.0,\n",
       " -697.0,\n",
       " 4129.0,\n",
       " -1722.5,\n",
       " 1616.0,\n",
       " 3892.0,\n",
       " -1135.0,\n",
       " -1371.0,\n",
       " -1690.5,\n",
       " -1481.5,\n",
       " 762.5,\n",
       " -1484.0,\n",
       " 3789.0,\n",
       " 8079.5,\n",
       " -271.0,\n",
       " 1790.0,\n",
       " 2910.5,\n",
       " 9923.0,\n",
       " -145.0,\n",
       " 819.5,\n",
       " -990.0,\n",
       " 310.5,\n",
       " 6072.0,\n",
       " 5071.0,\n",
       " -384.5,\n",
       " 2498.0,\n",
       " 304.0,\n",
       " -903.5,\n",
       " 8479.5,\n",
       " 8093.0,\n",
       " 8843.0,\n",
       " 2592.0,\n",
       " -81.0,\n",
       " 2241.5,\n",
       " -971.5,\n",
       " -1188.0,\n",
       " -216.5,\n",
       " 4792.0,\n",
       " -271.0,\n",
       " 9718.0,\n",
       " -1120.0,\n",
       " 3569.0,\n",
       " 6904.0,\n",
       " -1273.5,\n",
       " 1585.0,\n",
       " 7754.5,\n",
       " 670.0,\n",
       " 7000.0,\n",
       " 2207.0,\n",
       " 4712.0,\n",
       " 527.0,\n",
       " 1153.0,\n",
       " 3173.5,\n",
       " 1994.0,\n",
       " ...]"
      ]
     },
     "execution_count": 79,
     "metadata": {},
     "output_type": "execute_result"
    }
   ],
   "source": [
    "x = hist[1]\n",
    "hist_nxt = [d for d in differences if d >= x[11] and d <= x[12]]\n",
    "\n",
    "hist_nxt"
   ]
  },
  {
   "cell_type": "code",
   "execution_count": 81,
   "metadata": {},
   "outputs": [
    {
     "data": {
      "image/png": "[encoded data removed]",
      "text/plain": [
       "<Figure size 432x288 with 1 Axes>"
      ]
     },
     "metadata": {
      "needs_background": "light"
     },
     "output_type": "display_data"
    }
   ],
   "source": [
    "hist = plt.hist(hist_nxt, 100)"
   ]
  },
  {
   "cell_type": "code",
   "execution_count": 82,
   "metadata": {},
   "outputs": [
    {
     "data": {
      "text/plain": [
       "(array([1167., 1097., 1256., 1324., 1359., 1682., 1556., 1599., 1651.,\n",
       "        1641., 1833., 1883., 2253., 2838., 5030., 5044., 2512., 1977.,\n",
       "        1665., 1534., 1459., 1404., 1290., 1157., 1194., 1144., 1141.,\n",
       "        1103., 1075., 1071., 1032., 1041., 1026.,  999.,  980.,  953.,\n",
       "         953.,  963.,  888.,  918.,  981.,  899.,  894.,  801.,  866.,\n",
       "         835.,  775.,  799.,  860.,  809.,  785.,  774.,  763.,  744.,\n",
       "         797.,  794.,  750.,  735.,  782.,  769.,  746.,  751.,  739.,\n",
       "         700.,  779.,  720.,  747.,  750.,  683.,  709.,  724.,  651.,\n",
       "         734.,  693.,  671.,  702.,  648.,  693.,  689.,  668.,  647.,\n",
       "         647.,  690.,  631.,  605.,  660.,  677.,  617.,  634.,  622.,\n",
       "         610.,  561.,  614.,  631.,  596.,  587.,  589.,  598.,  590.,\n",
       "         560.]),\n",
       " array([-1802. , -1682.8, -1563.6, -1444.4, -1325.2, -1206. , -1086.8,\n",
       "         -967.6,  -848.4,  -729.2,  -610. ,  -490.8,  -371.6,  -252.4,\n",
       "         -133.2,   -14. ,   105.2,   224.4,   343.6,   462.8,   582. ,\n",
       "          701.2,   820.4,   939.6,  1058.8,  1178. ,  1297.2,  1416.4,\n",
       "         1535.6,  1654.8,  1774. ,  1893.2,  2012.4,  2131.6,  2250.8,\n",
       "         2370. ,  2489.2,  2608.4,  2727.6,  2846.8,  2966. ,  3085.2,\n",
       "         3204.4,  3323.6,  3442.8,  3562. ,  3681.2,  3800.4,  3919.6,\n",
       "         4038.8,  4158. ,  4277.2,  4396.4,  4515.6,  4634.8,  4754. ,\n",
       "         4873.2,  4992.4,  5111.6,  5230.8,  5350. ,  5469.2,  5588.4,\n",
       "         5707.6,  5826.8,  5946. ,  6065.2,  6184.4,  6303.6,  6422.8,\n",
       "         6542. ,  6661.2,  6780.4,  6899.6,  7018.8,  7138. ,  7257.2,\n",
       "         7376.4,  7495.6,  7614.8,  7734. ,  7853.2,  7972.4,  8091.6,\n",
       "         8210.8,  8330. ,  8449.2,  8568.4,  8687.6,  8806.8,  8926. ,\n",
       "         9045.2,  9164.4,  9283.6,  9402.8,  9522. ,  9641.2,  9760.4,\n",
       "         9879.6,  9998.8, 10118. ]),\n",
       " <a list of 100 Patch objects>)"
      ]
     },
     "execution_count": 82,
     "metadata": {},
     "output_type": "execute_result"
    }
   ],
   "source": [
    "hist"
   ]
  },
  {
   "cell_type": "code",
   "execution_count": 83,
   "metadata": {},
   "outputs": [
    {
     "data": {
      "image/png": "[encoded data removed]",
      "text/plain": [
       "<Figure size 432x288 with 1 Axes>"
      ]
     },
     "metadata": {
      "needs_background": "light"
     },
     "output_type": "display_data"
    }
   ],
   "source": [
    "x = hist[1]\n",
    "hist_nxt = [d for d in differences if d >= x[14] and d <= x[16]]\n",
    "hist = plt.hist(hist_nxt, 100)"
   ]
  },
  {
   "cell_type": "code",
   "execution_count": 84,
   "metadata": {},
   "outputs": [
    {
     "data": {
      "text/plain": [
       "(array([ 82.,  76.,  70.,  75.,  65.,  87.,  72.,  92.,  59.,  78.,  98.,\n",
       "         78.,  71.,  99.,  93., 128.,  71.,  75., 115.,  95.,  84., 107.,\n",
       "        115.,  95.,  87.,  94., 114.,  93., 100.,  72.,  93., 132.,  88.,\n",
       "         91., 125.,  99., 123.,  92., 101., 126., 106.,  90., 144., 139.,\n",
       "        153., 124., 134., 159., 150., 121., 182., 164., 218., 173., 161.,\n",
       "        199., 169., 219., 130., 130., 138., 125., 122., 133., 109., 126.,\n",
       "         95.,  84., 116.,  95.,  75., 120.,  86.,  89.,  65.,  92.,  94.,\n",
       "         77.,  82.,  77.,  74.,  82.,  51.,  62.,  75.,  52.,  79.,  56.,\n",
       "         71.,  71.,  67.,  45.,  84.,  53.,  62.,  53.,  64.,  75.,  57.,\n",
       "         66.]),\n",
       " array([-133.  , -130.62, -128.24, -125.86, -123.48, -121.1 , -118.72,\n",
       "        -116.34, -113.96, -111.58, -109.2 , -106.82, -104.44, -102.06,\n",
       "         -99.68,  -97.3 ,  -94.92,  -92.54,  -90.16,  -87.78,  -85.4 ,\n",
       "         -83.02,  -80.64,  -78.26,  -75.88,  -73.5 ,  -71.12,  -68.74,\n",
       "         -66.36,  -63.98,  -61.6 ,  -59.22,  -56.84,  -54.46,  -52.08,\n",
       "         -49.7 ,  -47.32,  -44.94,  -42.56,  -40.18,  -37.8 ,  -35.42,\n",
       "         -33.04,  -30.66,  -28.28,  -25.9 ,  -23.52,  -21.14,  -18.76,\n",
       "         -16.38,  -14.  ,  -11.62,   -9.24,   -6.86,   -4.48,   -2.1 ,\n",
       "           0.28,    2.66,    5.04,    7.42,    9.8 ,   12.18,   14.56,\n",
       "          16.94,   19.32,   21.7 ,   24.08,   26.46,   28.84,   31.22,\n",
       "          33.6 ,   35.98,   38.36,   40.74,   43.12,   45.5 ,   47.88,\n",
       "          50.26,   52.64,   55.02,   57.4 ,   59.78,   62.16,   64.54,\n",
       "          66.92,   69.3 ,   71.68,   74.06,   76.44,   78.82,   81.2 ,\n",
       "          83.58,   85.96,   88.34,   90.72,   93.1 ,   95.48,   97.86,\n",
       "         100.24,  102.62,  105.  ]),\n",
       " <a list of 100 Patch objects>)"
      ]
     },
     "execution_count": 84,
     "metadata": {},
     "output_type": "execute_result"
    }
   ],
   "source": [
    "hist"
   ]
  },
  {
   "cell_type": "code",
   "execution_count": 85,
   "metadata": {},
   "outputs": [
    {
     "data": {
      "image/png": "[encoded data removed]",
      "text/plain": [
       "<Figure size 432x288 with 1 Axes>"
      ]
     },
     "metadata": {
      "needs_background": "light"
     },
     "output_type": "display_data"
    }
   ],
   "source": [
    "x = hist[1]\n",
    "hist_nxt = [d for d in differences if d >= x[57] and d <= x[58]]\n",
    "hist = plt.hist(hist_nxt, 100)"
   ]
  },
  {
   "cell_type": "code",
   "execution_count": null,
   "metadata": {},
   "outputs": [],
   "source": []
  },
  {
   "cell_type": "code",
   "execution_count": 15,
   "metadata": {},
   "outputs": [],
   "source": [
    "y_f = [ '%.2f' % elem for elem in y ]\n",
    "\n",
    "y_list = []\n",
    "\n",
    "for i_y in range(len(y) - 1):\n",
    "    y_list.append(str(y_f[i_y]) + \"~\" + str(y_f[i_y + 1]))"
   ]
  },
  {
   "cell_type": "code",
   "execution_count": 16,
   "metadata": {
    "collapsed": true
   },
   "outputs": [
    {
     "data": {
      "text/plain": [
       "['-5.29~-5.17',\n",
       " '-5.17~-5.05',\n",
       " '-5.05~-4.93',\n",
       " '-4.93~-4.81',\n",
       " '-4.81~-4.69',\n",
       " '-4.69~-4.57',\n",
       " '-4.57~-4.45',\n",
       " '-4.45~-4.33',\n",
       " '-4.33~-4.21',\n",
       " '-4.21~-4.09',\n",
       " '-4.09~-3.97',\n",
       " '-3.97~-3.85',\n",
       " '-3.85~-3.73',\n",
       " '-3.73~-3.61',\n",
       " '-3.61~-3.49',\n",
       " '-3.49~-3.37',\n",
       " '-3.37~-3.25',\n",
       " '-3.25~-3.13',\n",
       " '-3.13~-3.01',\n",
       " '-3.01~-2.89',\n",
       " '-2.89~-2.77',\n",
       " '-2.77~-2.65',\n",
       " '-2.65~-2.53',\n",
       " '-2.53~-2.41',\n",
       " '-2.41~-2.29',\n",
       " '-2.29~-2.17',\n",
       " '-2.17~-2.05',\n",
       " '-2.05~-1.93',\n",
       " '-1.93~-1.81',\n",
       " '-1.81~-1.69',\n",
       " '-1.69~-1.57',\n",
       " '-1.57~-1.45',\n",
       " '-1.45~-1.33',\n",
       " '-1.33~-1.21',\n",
       " '-1.21~-1.09',\n",
       " '-1.09~-0.97',\n",
       " '-0.97~-0.85',\n",
       " '-0.85~-0.73',\n",
       " '-0.73~-0.61',\n",
       " '-0.61~-0.49',\n",
       " '-0.49~-0.37',\n",
       " '-0.37~-0.25',\n",
       " '-0.25~-0.13',\n",
       " '-0.13~-0.01',\n",
       " '-0.01~0.11',\n",
       " '0.11~0.23',\n",
       " '0.23~0.35',\n",
       " '0.35~0.47',\n",
       " '0.47~0.59',\n",
       " '0.59~0.71',\n",
       " '0.71~0.83',\n",
       " '0.83~0.95',\n",
       " '0.95~1.07',\n",
       " '1.07~1.19',\n",
       " '1.19~1.31',\n",
       " '1.31~1.43',\n",
       " '1.43~1.55',\n",
       " '1.55~1.67',\n",
       " '1.67~1.79',\n",
       " '1.79~1.91',\n",
       " '1.91~2.03',\n",
       " '2.03~2.15',\n",
       " '2.15~2.26',\n",
       " '2.26~2.38',\n",
       " '2.38~2.50',\n",
       " '2.50~2.62',\n",
       " '2.62~2.74',\n",
       " '2.74~2.86',\n",
       " '2.86~2.98',\n",
       " '2.98~3.10',\n",
       " '3.10~3.22',\n",
       " '3.22~3.34',\n",
       " '3.34~3.46',\n",
       " '3.46~3.58',\n",
       " '3.58~3.70',\n",
       " '3.70~3.82',\n",
       " '3.82~3.94',\n",
       " '3.94~4.06',\n",
       " '4.06~4.18',\n",
       " '4.18~4.30',\n",
       " '4.30~4.42',\n",
       " '4.42~4.54',\n",
       " '4.54~4.66',\n",
       " '4.66~4.78',\n",
       " '4.78~4.90',\n",
       " '4.90~5.02',\n",
       " '5.02~5.14',\n",
       " '5.14~5.26',\n",
       " '5.26~5.38',\n",
       " '5.38~5.50',\n",
       " '5.50~5.62',\n",
       " '5.62~5.74',\n",
       " '5.74~5.86',\n",
       " '5.86~5.98',\n",
       " '5.98~6.10',\n",
       " '6.10~6.22',\n",
       " '6.22~6.34',\n",
       " '6.34~6.46',\n",
       " '6.46~6.58',\n",
       " '6.58~6.70']"
      ]
     },
     "execution_count": 16,
     "metadata": {},
     "output_type": "execute_result"
    }
   ],
   "source": [
    "y_list"
   ]
  },
  {
   "cell_type": "code",
   "execution_count": null,
   "metadata": {},
   "outputs": [],
   "source": [
    "#---------------------------#"
   ]
  },
  {
   "cell_type": "code",
   "execution_count": 61,
   "metadata": {},
   "outputs": [],
   "source": [
    "df_labeled = pd.read_pickle(dir_labeled + \"201307.pkl\")"
   ]
  },
  {
   "cell_type": "code",
   "execution_count": 62,
   "metadata": {},
   "outputs": [
    {
     "ename": "NameError",
     "evalue": "name 'edges' is not defined",
     "output_type": "error",
     "traceback": [
      "\u001b[1;31m---------------------------------------------------------------------------\u001b[0m",
      "\u001b[1;31mNameError\u001b[0m                                 Traceback (most recent call last)",
      "\u001b[1;32m<ipython-input-62-cbe38e13999b>\u001b[0m in \u001b[0;36m<module>\u001b[1;34m\u001b[0m\n\u001b[0;32m      3\u001b[0m \u001b[1;31m# sample_edges = df_labeled[['IP_SRC', 'IP_DST']].sample(n=10, random_state=1)\u001b[0m\u001b[1;33m\u001b[0m\u001b[1;33m\u001b[0m\u001b[1;33m\u001b[0m\u001b[0m\n\u001b[0;32m      4\u001b[0m \u001b[1;33m\u001b[0m\u001b[0m\n\u001b[1;32m----> 5\u001b[1;33m \u001b[0msample_edge\u001b[0m \u001b[1;33m=\u001b[0m \u001b[0medges\u001b[0m\u001b[1;33m.\u001b[0m\u001b[0msample\u001b[0m\u001b[1;33m(\u001b[0m\u001b[0mn\u001b[0m \u001b[1;33m=\u001b[0m \u001b[1;36m10\u001b[0m\u001b[1;33m,\u001b[0m \u001b[0mrandom_state\u001b[0m \u001b[1;33m=\u001b[0m \u001b[1;36m1\u001b[0m\u001b[1;33m)\u001b[0m\u001b[1;33m\u001b[0m\u001b[1;33m\u001b[0m\u001b[0m\n\u001b[0m",
      "\u001b[1;31mNameError\u001b[0m: name 'edges' is not defined"
     ]
    }
   ],
   "source": [
    "from random import sample  \n",
    "\n",
    "sample_edges = df_labeled[['IP_SRC', 'IP_DST']].sample(n=10, random_state=1)"
   ]
  },
  {
   "cell_type": "code",
   "execution_count": 29,
   "metadata": {},
   "outputs": [
    {
     "data": {
      "text/html": [
       "<div>\n",
       "<style scoped>\n",
       "    .dataframe tbody tr th:only-of-type {\n",
       "        vertical-align: middle;\n",
       "    }\n",
       "\n",
       "    .dataframe tbody tr th {\n",
       "        vertical-align: top;\n",
       "    }\n",
       "\n",
       "    .dataframe thead th {\n",
       "        text-align: right;\n",
       "    }\n",
       "</style>\n",
       "<table border=\"1\" class=\"dataframe\">\n",
       "  <thead>\n",
       "    <tr style=\"text-align: right;\">\n",
       "      <th></th>\n",
       "      <th>IP_SRC</th>\n",
       "      <th>IP_DST</th>\n",
       "    </tr>\n",
       "  </thead>\n",
       "  <tbody>\n",
       "    <tr>\n",
       "      <th>961966</th>\n",
       "      <td>147128</td>\n",
       "      <td>99416</td>\n",
       "    </tr>\n",
       "    <tr>\n",
       "      <th>1076086</th>\n",
       "      <td>573830</td>\n",
       "      <td>573831</td>\n",
       "    </tr>\n",
       "    <tr>\n",
       "      <th>477307</th>\n",
       "      <td>5643</td>\n",
       "      <td>12252</td>\n",
       "    </tr>\n",
       "    <tr>\n",
       "      <th>65466</th>\n",
       "      <td>207854</td>\n",
       "      <td>207855</td>\n",
       "    </tr>\n",
       "    <tr>\n",
       "      <th>47911</th>\n",
       "      <td>466533</td>\n",
       "      <td>466534</td>\n",
       "    </tr>\n",
       "    <tr>\n",
       "      <th>38115</th>\n",
       "      <td>421484</td>\n",
       "      <td>314696</td>\n",
       "    </tr>\n",
       "    <tr>\n",
       "      <th>825810</th>\n",
       "      <td>337</td>\n",
       "      <td>1453</td>\n",
       "    </tr>\n",
       "    <tr>\n",
       "      <th>858488</th>\n",
       "      <td>239216</td>\n",
       "      <td>3095</td>\n",
       "    </tr>\n",
       "    <tr>\n",
       "      <th>19822</th>\n",
       "      <td>466530</td>\n",
       "      <td>466531</td>\n",
       "    </tr>\n",
       "    <tr>\n",
       "      <th>971467</th>\n",
       "      <td>49906</td>\n",
       "      <td>49907</td>\n",
       "    </tr>\n",
       "  </tbody>\n",
       "</table>\n",
       "</div>"
      ],
      "text/plain": [
       "         IP_SRC  IP_DST\n",
       "961966   147128   99416\n",
       "1076086  573830  573831\n",
       "477307     5643   12252\n",
       "65466    207854  207855\n",
       "47911    466533  466534\n",
       "38115    421484  314696\n",
       "825810      337    1453\n",
       "858488   239216    3095\n",
       "19822    466530  466531\n",
       "971467    49906   49907"
      ]
     },
     "execution_count": 29,
     "metadata": {},
     "output_type": "execute_result"
    }
   ],
   "source": [
    "sample_edges"
   ]
  },
  {
   "cell_type": "code",
   "execution_count": 47,
   "metadata": {
    "scrolled": true
   },
   "outputs": [],
   "source": [
    "edge_weights = {}\n",
    "\n",
    "for index, row in sample_edges.iterrows():\n",
    "    weights = df_labeled.loc[\n",
    "        (\n",
    "            (df_labeled['IP_SRC'] == row['IP_SRC']) \n",
    "            & (df_labeled['IP_DST'] == row['IP_DST'])\n",
    "        )\n",
    "        | (\n",
    "            (df_labeled['IP_DST'] == row['IP_SRC']) \n",
    "             & (df_labeled['IP_SRC'] == row['IP_DST'])\n",
    "        )\n",
    "    ]['RTT'].values\n",
    "    \n",
    "    key = (row['IP_SRC'], row['IP_DST'])\n",
    "    edge_weights[key] = weights"
   ]
  },
  {
   "cell_type": "code",
   "execution_count": 48,
   "metadata": {},
   "outputs": [
    {
     "data": {
      "text/plain": [
       "{(147128,\n",
       "  99416): array([369503, 385305, 380029, 373084, 363607, 373548, 382636, 379607,\n",
       "        368348, 363275, 365200, 265996, 270612, 267796, 270753, 273318,\n",
       "        267370, 269998, 269639, 281801, 270536, 280021, 273370, 214053,\n",
       "        213592, 249062, 234410, 255411, 246380, 224435, 245904, 311598,\n",
       "        311965, 305162, 303963, 310398, 311684, 210068, 210186, 210066,\n",
       "        209985, 210092, 210062, 210178, 210196, 210161, 210076, 210000,\n",
       "        210077, 210130, 210133, 210061, 190325, 180713, 182949, 180465,\n",
       "        188125, 179534, 187662, 187513, 300163, 201261, 180054, 191092,\n",
       "        179274, 182883, 191098, 188698, 188388, 181630, 187402, 187206,\n",
       "        187661, 188731, 186827, 178973, 180587, 197565, 182055, 188774,\n",
       "        258144, 255272, 258074, 255577, 251783, 250661, 251671, 257125,\n",
       "        254719, 156612, 156507, 156561, 156571, 156671, 156417, 156618,\n",
       "        156431, 156698, 156469, 156762, 156506, 156764, 156459, 156382,\n",
       "        156470, 158555, 156369, 157961, 156335, 156752, 156468, 156445,\n",
       "        156332, 156461, 156421, 156337, 156519, 156540, 156439, 209683,\n",
       "        218345, 243284, 245443, 248183, 248593, 246878, 246539, 247602,\n",
       "        247753, 246785, 244576, 243887, 234611, 205072, 224831, 146384,\n",
       "        146372, 146392, 146342, 146358, 146517, 146337, 146404, 146459,\n",
       "        146335, 146394, 146376, 146388, 146343, 146479, 146383, 146629,\n",
       "        146526, 146370, 146406, 146466, 146322, 146366, 146376, 146500,\n",
       "        146356, 146412, 146392, 146362, 146332, 146435, 146366, 146385,\n",
       "        146410, 146468, 146382, 146438, 146435, 146391, 146536, 146341,\n",
       "        146462, 146345, 146408], dtype=int64),\n",
       " (573830,\n",
       "  573831): array([  386,   448, 45986, ...,   428, 41379,   526], dtype=int64),\n",
       " (5643,\n",
       "  12252): array([123415, 123647, 124178, 123339, 123256, 126429,  89586,  90494,\n",
       "         90205,  89259,  91227,  89511,  91721,  90285,  89823, 146382,\n",
       "         89629,  89993,  90416,  91584,  90951,  90690,  90112,  90280,\n",
       "         91322,  90723,  90598, 151331,  97358,  83050,  83012, 109546,\n",
       "         82725,  82694,  82770,  82642,  82961,  82913, 115687,  83147,\n",
       "         82104,  82217,  82964,  82542,  82113,  82438,  82402,  82058,\n",
       "         82737,  82470,  82486,  82504, 108691,  82504,  83060,  82170,\n",
       "         82163,  82164,  82364,  82422,  91846,  82063,  82775,  83140,\n",
       "         83070,  82756,  83192, 101743,  82113,  82140,  82023,  83074,\n",
       "        113353, 113376, 164403, 164757, 165190, 164711, 164978, 164356,\n",
       "        200750, 120612, 120996, 123406, 136131, 119860, 119440, 192929,\n",
       "        193547, 204537, 192882, 192691, 192852, 193255, 193046, 193185,\n",
       "        193161, 193440, 193113, 193324, 193097, 209880, 194706, 194647,\n",
       "        194514, 194437, 194865, 194311, 194581, 194889, 194555, 194488,\n",
       "        194063, 194760, 194970, 194830, 194657, 194547, 194858, 195092,\n",
       "        197495, 194843, 195253, 195126, 195690, 194942, 194979, 194500,\n",
       "        195098, 195306, 195146, 194703, 194721, 194229, 194783, 226707,\n",
       "        195257, 193548, 193011, 194577, 194086, 194101, 193781, 194331,\n",
       "        194350, 194243, 196740, 194484, 193946, 209651, 194347, 201257,\n",
       "        195551, 194263, 193969, 194085, 193509, 197351, 193798, 196722,\n",
       "        193472, 193778, 196768, 193415, 198984, 193768, 193276, 193825,\n",
       "        193739, 193354, 193669, 193758, 193623, 194011, 193595, 193224,\n",
       "        193654, 193626, 193307, 193457, 214649, 193284, 193734, 193550,\n",
       "        193296, 193232, 193458, 193327, 193510, 194373, 193775, 193748,\n",
       "         81920,  81608,  81763,  81563,  81872, 130725,  82025,  81791,\n",
       "         81529,  81704,  75857,  75806,  75901, 108317, 108659, 108622,\n",
       "        108933, 108778, 113288, 108413, 108350, 163777, 163631, 162608,\n",
       "        163171, 162757, 162906, 161635, 162810, 162823, 163221, 177928,\n",
       "        162287, 168043, 164348, 163360, 163955, 162593, 162681, 165659,\n",
       "        163408, 162606, 164442, 171136, 162908, 161951, 163253, 162992,\n",
       "        163623, 164325, 165891, 161208, 167223, 210331, 163178, 162525,\n",
       "        172306, 164863, 164019, 162644, 162726, 164814, 162555, 163646,\n",
       "        162175, 163776, 192666, 163807, 163665, 162847, 167074, 163259,\n",
       "        163806, 162782, 162641, 163161, 163132, 163758, 164142, 163511,\n",
       "        163132, 162131, 161555, 168301, 162329, 164527, 162792, 160975,\n",
       "        162292, 163515, 162478, 164034, 162893, 163921, 163289, 162167,\n",
       "        166680, 172528, 162547, 167958, 156497, 155508, 155173, 155922,\n",
       "        155666, 155046, 173214, 182373, 171141, 155489, 155530, 155759,\n",
       "        155294, 155154, 155636, 155743, 155337, 155270, 155724, 155800,\n",
       "        155365, 155661, 155010, 155870, 156497, 155876, 155581, 155348,\n",
       "        155460, 155961, 156167, 165528, 155035, 157400, 158170, 155298,\n",
       "        157345, 154929, 155605, 155403, 155307, 155766, 155753, 176071,\n",
       "        189615, 155770, 155119, 155576, 155612, 155144, 155617, 160300,\n",
       "        165557, 171056, 176664, 175377, 219885, 155481, 155064, 155042,\n",
       "        203638, 155516, 203006, 186887, 219236, 116500, 127961, 102431,\n",
       "        162652, 162231, 162443, 162638, 162930, 162380, 187894, 171214,\n",
       "        162589, 162643, 162302, 162449, 162682, 162739, 162723, 162653,\n",
       "        162541, 162255, 162191, 162469, 162915, 162493, 162747, 168232,\n",
       "        162446, 162690, 162259, 163104, 207486, 162797, 162384, 162769,\n",
       "        163116, 163906, 168382, 162282, 162262, 162301, 162497, 163064,\n",
       "        162495, 168854, 222664, 163749, 162236, 162813, 168473, 162772,\n",
       "        162530, 162423, 162583, 162534, 162401, 164126, 162625, 162876,\n",
       "        162926, 163074, 162720, 162908, 162795, 162802, 162510, 162276,\n",
       "        163789, 162746, 162483, 162795, 165001, 162809, 162576, 164878,\n",
       "        162849, 163780, 162521, 165497, 162711, 162825, 162927, 162658,\n",
       "        162958, 163432, 166571, 162434, 162392, 164064, 162854, 162391,\n",
       "        162877, 162495, 172696, 162527, 163320, 162898, 173393, 176238,\n",
       "        162632, 162495, 173090, 162863, 173184, 162584, 162543, 162659,\n",
       "        162620, 163106, 162367, 162446, 162552, 181456, 240866, 182655,\n",
       "        183368, 189344, 181971, 190382, 182345, 182946, 166429, 167178,\n",
       "        166436, 166205, 166936, 166184, 167102, 167298, 166250, 151596,\n",
       "        158068, 151883, 152097, 152305, 151874, 151824, 151755, 151948,\n",
       "        151844, 152214, 151660, 152344, 154434, 167915, 166014, 151888,\n",
       "        152208, 152104, 154809, 151522, 151651, 151942, 176773, 152212,\n",
       "        151619, 158729, 152047, 151961, 155341, 152080, 190890, 185525,\n",
       "        153821, 152161, 153386, 152102, 152078, 151679, 153332, 152035,\n",
       "        152916, 151700, 152410, 152087, 152047, 152277, 153168, 151907,\n",
       "        151947, 152368, 151789, 152171, 151984, 153293, 152225, 151539,\n",
       "        152391, 152052, 151762, 160819, 151712, 152196, 151706, 151849,\n",
       "        151946, 151670, 151921, 151598, 151811, 151885, 153034, 152033,\n",
       "        151797, 152050, 163264, 152067, 152743, 145466, 171729, 146061,\n",
       "        146419, 145974, 145622, 145661, 146176, 146433, 146099, 145543,\n",
       "        151903, 152281, 152037, 152350, 152430, 152372, 157628, 157478,\n",
       "        157081, 157442, 157261, 157621, 157501, 157117, 157366, 158122,\n",
       "        157156, 157621, 156826, 157299, 156950, 156751, 158788, 158695,\n",
       "        157806, 190547, 157366, 156910, 204544, 156832, 159990, 158875,\n",
       "        189399, 159836, 156983, 157346, 157246, 156909, 156937, 156899,\n",
       "        156978, 157803, 156928, 161939, 156794, 156877, 157295, 157157,\n",
       "        207719, 156750, 157534, 157078, 157419, 192648, 188198, 156797,\n",
       "        157585, 156751, 157562, 156827, 157619, 217122, 157052, 157121,\n",
       "        157157, 157462, 118740, 128195, 119768], dtype=int64),\n",
       " (207854,\n",
       "  207855): array([1910, 1875, 1896, ..., 2589, 1862, 1838], dtype=int64),\n",
       " (466533,\n",
       "  466534): array([4583, 4563, 5136, ..., 4530, 4497, 4462], dtype=int64),\n",
       " (421484,\n",
       "  314696): array([259545, 259340, 260406, 259215, 259626, 259861, 259586, 259510,\n",
       "        265796, 259467, 260666, 258028, 259537, 257999, 258056, 258073,\n",
       "        258130, 259218, 258272, 258181, 258142, 258337, 259305, 258136,\n",
       "        258054, 258087, 258160, 258100, 257993, 258027, 258028, 258165,\n",
       "        258383, 258194, 258031, 257991, 258518, 257558, 257715, 257624,\n",
       "        257589, 257854, 258012, 258013, 257601, 258138, 258205, 257993,\n",
       "        258188, 258018, 258000, 258081, 258010, 258154, 258023, 258125,\n",
       "        258094, 258108, 258174, 258038, 258108, 258863, 285667, 258043,\n",
       "        258029, 258086, 258349, 258689, 258088, 258082, 258112, 258033,\n",
       "        258061, 258066, 258079, 258695, 259989, 258032, 258468, 258049,\n",
       "        258238, 259906, 258150, 257997, 258033, 258021, 260814, 258067,\n",
       "        258020, 258022, 258845, 258130, 258247, 258022, 258193, 259495,\n",
       "        258087, 258097, 258173, 258650, 258071, 258118, 258000, 321749,\n",
       "        258048, 260387, 258090, 258070, 258031, 257999, 257981, 261354,\n",
       "        258117, 314408, 259532, 258051, 258267, 258132, 288814, 322545,\n",
       "        322528, 322777, 322492, 322672, 322788, 322867, 323063, 322600,\n",
       "        323519, 323223, 323491, 323246, 323168, 322709, 323450, 322727,\n",
       "        323576, 322871, 322717, 326491, 323012, 322629, 323498, 323007,\n",
       "        323717, 322651, 323529, 324196, 323216, 323657, 323287, 323295,\n",
       "        323356, 323038, 323150, 322839, 323444, 323377, 324497, 323421,\n",
       "        323861, 325764, 323551, 323180, 324663, 324200, 323972, 323458,\n",
       "        323513, 323297, 322447, 324368, 323253, 322610, 323328, 323741,\n",
       "        324285, 324205, 323287, 322980, 257912, 257916, 257936, 258058,\n",
       "        257842, 257884, 257928, 257898, 257833, 257851, 257890, 257898,\n",
       "        257970, 257909, 257827, 257898, 257920, 257800, 257871, 258291,\n",
       "        257854, 257968, 257872, 257970, 257969, 257892, 257911, 320778,\n",
       "        257878, 321191, 257847, 257889, 338514, 257894, 257915, 257973,\n",
       "        258497, 257907, 259588, 259493, 259470, 259529, 259504, 259465,\n",
       "        259490, 259493, 259478, 259538, 259585, 259550, 259681, 259485,\n",
       "        259604, 259566, 259504, 259676, 259671, 259467, 259521, 259540,\n",
       "        259524, 266226, 259590, 322929, 259476, 259473, 259490, 259521,\n",
       "        259528, 259511, 260085, 259496, 259462, 259730, 259485, 259604,\n",
       "        259605, 259599, 258198, 258263, 258647, 258225, 258339, 258242,\n",
       "        258224, 314265, 258421, 258515, 258287, 258315, 258162, 258208,\n",
       "        258258, 259753, 258359, 322661, 258370, 258460, 258271, 258232,\n",
       "        258331, 258238, 258330, 258255, 258247, 258233, 258232, 260718,\n",
       "        258250, 258237, 258585, 258199, 258260, 258470, 258241, 258215,\n",
       "        258218, 258219, 258230, 258224, 258282, 258313, 258277, 258285,\n",
       "        258547, 258263, 258401, 258239, 258214, 258185, 258389, 258221,\n",
       "        258306, 258242, 258226], dtype=int64),\n",
       " (337,\n",
       "  1453): array([40030, 39840, 41465, 42653, 41345, 56836, 55425, 55474, 53655,\n",
       "        23697, 25485, 23689, 24015, 25132, 25174, 25198, 30338, 53343,\n",
       "        64106, 62766, 51379, 51208, 51428, 53659, 53572], dtype=int64),\n",
       " (239216,\n",
       "  3095): array([61383, 59984, 52369, 52375, 53108, 52278, 52535, 52403, 54701,\n",
       "        54253, 53008, 52194, 53401, 53099, 54438, 51718, 50933, 51971,\n",
       "        53931, 52985, 51849, 53723, 51527, 53644, 51329], dtype=int64),\n",
       " (466530,\n",
       "  466531): array([2704, 2653, 2734, ..., 2919, 2597, 2729], dtype=int64),\n",
       " (49906,\n",
       "  49907): array([145474, 181745, 165222, 153837, 190880, 194270, 194348, 187563,\n",
       "        178835, 137269, 140375, 108473, 164937], dtype=int64)}"
      ]
     },
     "execution_count": 48,
     "metadata": {},
     "output_type": "execute_result"
    }
   ],
   "source": [
    "edge_weights"
   ]
  },
  {
   "cell_type": "code",
   "execution_count": 56,
   "metadata": {},
   "outputs": [],
   "source": [
    "min_len_weight = sys.maxsize\n",
    "for edge in edge_weights.keys():\n",
    "    min_len_weight = min(min_len_weight, len(edge_weights[edge]))"
   ]
  },
  {
   "cell_type": "code",
   "execution_count": 60,
   "metadata": {
    "scrolled": false
   },
   "outputs": [
    {
     "data": {
      "image/png": "[encoded data removed]",
      "text/plain": [
       "<Figure size 432x288 with 1 Axes>"
      ]
     },
     "metadata": {
      "needs_background": "light"
     },
     "output_type": "display_data"
    },
    {
     "data": {
      "image/png": "[encoded data removed]",
      "text/plain": [
       "<Figure size 432x288 with 1 Axes>"
      ]
     },
     "metadata": {
      "needs_background": "light"
     },
     "output_type": "display_data"
    },
    {
     "data": {
      "image/png": "[encoded data removed]",
      "text/plain": [
       "<Figure size 432x288 with 1 Axes>"
      ]
     },
     "metadata": {
      "needs_background": "light"
     },
     "output_type": "display_data"
    },
    {
     "data": {
      "image/png": "[encoded data removed]",
      "text/plain": [
       "<Figure size 432x288 with 1 Axes>"
      ]
     },
     "metadata": {
      "needs_background": "light"
     },
     "output_type": "display_data"
    },
    {
     "data": {
      "image/png": "[encoded data removed]",
      "text/plain": [
       "<Figure size 432x288 with 1 Axes>"
      ]
     },
     "metadata": {
      "needs_background": "light"
     },
     "output_type": "display_data"
    },
    {
     "data": {
      "image/png": "[encoded data removed]",
      "text/plain": [
       "<Figure size 432x288 with 1 Axes>"
      ]
     },
     "metadata": {
      "needs_background": "light"
     },
     "output_type": "display_data"
    },
    {
     "data": {
      "image/png": "[encoded data removed]",
      "text/plain": [
       "<Figure size 432x288 with 1 Axes>"
      ]
     },
     "metadata": {
      "needs_background": "light"
     },
     "output_type": "display_data"
    },
    {
     "data": {
      "image/png": "[encoded data removed]",
      "text/plain": [
       "<Figure size 432x288 with 1 Axes>"
      ]
     },
     "metadata": {
      "needs_background": "light"
     },
     "output_type": "display_data"
    },
    {
     "data": {
      "image/png": "[encoded data removed]",
      "text/plain": [
       "<Figure size 432x288 with 1 Axes>"
      ]
     },
     "metadata": {
      "needs_background": "light"
     },
     "output_type": "display_data"
    },
    {
     "data": {
      "image/png": "[encoded data removed]",
      "text/plain": [
       "<Figure size 432x288 with 1 Axes>"
      ]
     },
     "metadata": {
      "needs_background": "light"
     },
     "output_type": "display_data"
    }
   ],
   "source": [
    "for edge in edge_weights.keys():\n",
    "    plt.figure()\n",
    "    plt.title(str(edge))\n",
    "    hist = plt.hist(edge_weights[edge], min_len_weight)"
   ]
  },
  {
   "cell_type": "code",
   "execution_count": 93,
   "metadata": {},
   "outputs": [],
   "source": [
    "df_labeled_0 = pd.read_pickle(dir_labeled + \"201307.pkl\")\n",
    "df_labeled_1 = pd.read_pickle(dir_labeled + \"201308.pkl\")"
   ]
  },
  {
   "cell_type": "code",
   "execution_count": 94,
   "metadata": {},
   "outputs": [],
   "source": [
    "from random import sample  \n",
    "\n",
    "sample_edges = sample(edges, 10)"
   ]
  },
  {
   "cell_type": "code",
   "execution_count": 95,
   "metadata": {},
   "outputs": [
    {
     "data": {
      "text/plain": [
       "[(62656, 35310),\n",
       " (249309, 323607),\n",
       " (853, 4666),\n",
       " (40081, 22964),\n",
       " (8778, 209602),\n",
       " (66596, 363893),\n",
       " (70537, 184922),\n",
       " (194928, 141058),\n",
       " (221905, 95269),\n",
       " (438298, 24373)]"
      ]
     },
     "execution_count": 95,
     "metadata": {},
     "output_type": "execute_result"
    }
   ],
   "source": [
    "sample_edges"
   ]
  },
  {
   "cell_type": "code",
   "execution_count": 96,
   "metadata": {},
   "outputs": [],
   "source": [
    "edge_weights = {}\n",
    "\n",
    "for u, v in sample_edges:\n",
    "    weights_0 = df_labeled_0.loc[\n",
    "        (\n",
    "            (df_labeled_0['IP_SRC'] == u) \n",
    "            & (df_labeled_0['IP_DST'] == v)\n",
    "        )\n",
    "        | (\n",
    "            (df_labeled_0['IP_DST'] == u) \n",
    "             & (df_labeled_0['IP_SRC'] == v)\n",
    "        )\n",
    "    ]['RTT'].values\n",
    "    weights_1 = df_labeled_1.loc[\n",
    "        (\n",
    "            (df_labeled_1['IP_SRC'] == u) \n",
    "            & (df_labeled_1['IP_DST'] == v)\n",
    "        )\n",
    "        | (\n",
    "            (df_labeled_1['IP_DST'] == u) \n",
    "             & (df_labeled_1['IP_SRC'] == v)\n",
    "        )\n",
    "    ]['RTT'].values\n",
    "    \n",
    "    key = (u, v)\n",
    "    edge_weights[key] = [weights_0, weights_1] "
   ]
  },
  {
   "cell_type": "code",
   "execution_count": 97,
   "metadata": {},
   "outputs": [
    {
     "data": {
      "text/plain": [
       "1"
      ]
     },
     "execution_count": 97,
     "metadata": {},
     "output_type": "execute_result"
    }
   ],
   "source": [
    "min_len_weight = sys.maxsize\n",
    "for edge in edge_weights.keys():\n",
    "    min_len_weight = min(min_len_weight, len(edge_weights[edge][0]))\n",
    "    min_len_weight = min(min_len_weight, len(edge_weights[edge][1]))\n",
    "    \n",
    "min_len_weight"
   ]
  },
  {
   "cell_type": "code",
   "execution_count": 98,
   "metadata": {},
   "outputs": [],
   "source": [
    "MIN_BINS = 10"
   ]
  },
  {
   "cell_type": "code",
   "execution_count": 108,
   "metadata": {
    "scrolled": false
   },
   "outputs": [
    {
     "name": "stdout",
     "output_type": "stream",
     "text": [
      "(62656, 35310)\n",
      "[ 67081  67082  77468 112636  69744]\n",
      "[ 59411  96040  64373 112511  89283]\n",
      "(249309, 323607)\n",
      "[196009 181399  84068 234043  62223  72888  74648  24493  24461  40290\n",
      "  40130  40061  40189  39970 163299  54121  54329  39431  39377  39364\n",
      "  39383  39380  39407 199188  40680  40536 155593  40666  48516  48486\n",
      "  48473  48612 158096  17605 196868  17716  17454]\n",
      "[ 75699  92166 158303  85319  33253 153430 153778  32908 205948 100757\n",
      " 118729  74762  24604  24301 196763  24312  24722 181120 126864  80035\n",
      "  40821  40642  40549 171261  40508  50787  76384  17462]\n",
      "(853, 4666)\n",
      "[217628 214842 225657 217705 218962 225532 218202 214187 218964 274880\n",
      " 276221 269194 273358 312843 306014 586695 277559 458300 563017 569474\n",
      " 212074 200417 200601 200672 204831 204965 200795 200459 200574 202538\n",
      " 200490 232877 232720 232847 232566 241810 233866 232564 234074 233988\n",
      " 234270 232746 226495 226975 230354 248305 226432 246289 227630 261905\n",
      " 231509 226263 323204 248200 253509 251990 259593 248154 247849 252192\n",
      " 251981 253724 252657 259519 214055 219115 215124 214396 220026 214353\n",
      " 215509 256990 259283 258221 259023 258256 256933 258191 256902 257041\n",
      " 256721 202082 199743 229105 198947 195274 181980 180663 182043 199708\n",
      " 180590 180742 195715 267246 266996 267357 266930 267903 266688 183844\n",
      " 199927 183766 184420 185316 184960 184045 183728 183836 183820 183995\n",
      " 185156 245688 204279 195607 199642 183429 185220 183488 184292 184811\n",
      " 184554 183450 183407 183339 209037 208746 208525 220663 208291 300641\n",
      " 193073 195845 172207 174125 172334 173659 172169 172646 172031 172184\n",
      " 173527 172167 176071 175847 175000 174688 231664 233199 242872 231609]\n",
      "[219521 267975 215496 220690 215359 215286 215539 219545 215690 226902\n",
      " 223567 220834 227020 219176 215232 353198 269665 268927 285596 272411\n",
      " 269527 282111 371546 269498 269440 273565 283728 275822 325498 271875\n",
      " 273203 368972 274378 273460 270144 272105 197175 385317 365509 266100\n",
      " 260809 260472 262029 261012 261130 341195 265113 264400 264683 282783\n",
      " 206949 207962 204042 202539 203519 207652 203429 203788 204618 203889\n",
      " 204526 216192 195450 205707 195441 287694 232360 196827 199582 195506\n",
      " 196095 200282 200033 214889 195967 198320 199456 358848 222211 192018\n",
      " 238748 193927 189983 189989 190331 189826 232139 193851 190092 194034\n",
      " 189757 193752 194583 193854 206672 206927 204610 204759 206754 203201\n",
      " 305085 206778 226330 202853 202860 206849 223378 206740 206896 294932\n",
      " 192151 266364]\n",
      "(40081, 22964)\n",
      "[ 55969 141660]\n",
      "[48325 32333]\n",
      "(8778, 209602)\n",
      "[156335 163846 191350 191359 196347 190151 191195 188806 198466 202899\n",
      " 199392 139445 160164 159486 142920 148190 158004 152090 141098 142678\n",
      " 137720 130736 143049 147679 146958 131661 111817 121663 125828 111711\n",
      " 115443 109187 122020]\n",
      "[161733 163906 158141 158539 136438 148122 147312 138604 147030 146678\n",
      " 142025 144923 151106 140079 149698 148137 144595 145343 137933 143116]\n",
      "(66596, 363893)\n",
      "[173823]\n",
      "[177369]\n",
      "(70537, 184922)\n",
      "[288460 241166 264253]\n",
      "[ 232371  231223  205191 3228373]\n",
      "(194928, 141058)\n",
      "[302525 398273]\n",
      "[356699]\n",
      "(221905, 95269)\n",
      "[123338  58551  58624  48063]\n",
      "[64160 63964 70219 48433 48315 51430]\n",
      "(438298, 24373)\n",
      "[276119]\n",
      "[254252 299815 296756]\n"
     ]
    },
    {
     "data": {
      "image/png": "[encoded data removed]",
      "text/plain": [
       "<Figure size 432x288 with 1 Axes>"
      ]
     },
     "metadata": {
      "needs_background": "light"
     },
     "output_type": "display_data"
    },
    {
     "data": {
      "image/png": "[encoded data removed]",
      "text/plain": [
       "<Figure size 432x288 with 1 Axes>"
      ]
     },
     "metadata": {
      "needs_background": "light"
     },
     "output_type": "display_data"
    },
    {
     "data": {
      "image/png": "[encoded data removed]",
      "text/plain": [
       "<Figure size 432x288 with 1 Axes>"
      ]
     },
     "metadata": {
      "needs_background": "light"
     },
     "output_type": "display_data"
    },
    {
     "data": {
      "image/png": "[encoded data removed]",
      "text/plain": [
       "<Figure size 432x288 with 1 Axes>"
      ]
     },
     "metadata": {
      "needs_background": "light"
     },
     "output_type": "display_data"
    },
    {
     "data": {
      "image/png": "[encoded data removed]",
      "text/plain": [
       "<Figure size 432x288 with 1 Axes>"
      ]
     },
     "metadata": {
      "needs_background": "light"
     },
     "output_type": "display_data"
    },
    {
     "data": {
      "image/png": "[encoded data removed]",
      "text/plain": [
       "<Figure size 432x288 with 1 Axes>"
      ]
     },
     "metadata": {
      "needs_background": "light"
     },
     "output_type": "display_data"
    },
    {
     "data": {
      "image/png": "[encoded data removed]",
      "text/plain": [
       "<Figure size 432x288 with 1 Axes>"
      ]
     },
     "metadata": {
      "needs_background": "light"
     },
     "output_type": "display_data"
    },
    {
     "data": {
      "image/png": "[encoded data removed]",
      "text/plain": [
       "<Figure size 432x288 with 1 Axes>"
      ]
     },
     "metadata": {
      "needs_background": "light"
     },
     "output_type": "display_data"
    },
    {
     "data": {
      "image/png": "[encoded data removed]",
      "text/plain": [
       "<Figure size 432x288 with 1 Axes>"
      ]
     },
     "metadata": {
      "needs_background": "light"
     },
     "output_type": "display_data"
    },
    {
     "data": {
      "image/png": "[encoded data removed]",
      "text/plain": [
       "<Figure size 432x288 with 1 Axes>"
      ]
     },
     "metadata": {
      "needs_background": "light"
     },
     "output_type": "display_data"
    }
   ],
   "source": [
    "for edge in edge_weights.keys():\n",
    "    plt.figure()\n",
    "    plt.title(str(edge))\n",
    "    \n",
    "    print(str(edge))\n",
    "    print(str(edge_weights[edge][0]))\n",
    "    print(str(edge_weights[edge][1]))\n",
    "    \n",
    "    if len(edge_weights[edge][0]) < MIN_BINS:\n",
    "        hist = plt.hist(edge_weights[edge][0], len(edge_weights[edge][0]), alpha = 0.5)\n",
    "    else:\n",
    "        hist = plt.hist(edge_weights[edge][0], max(min_len_weight, MIN_BINS), alpha = 0.5)\n",
    "    if len(edge_weights[edge][1]) < MIN_BINS:\n",
    "        hist = plt.hist(edge_weights[edge][1], len(edge_weights[edge][1]), alpha = 0.5)\n",
    "    else:\n",
    "        hist = plt.hist(edge_weights[edge][1], max(min_len_weight, MIN_BINS), alpha = 0.5)\n",
    "        \n",
    "    plt.axvline(edge_weights[edge][0].mean(), color='b', linestyle='dashed', linewidth=1)\n",
    "    plt.axvline(edge_weights[edge][1].mean(), color='y', linestyle='dashed', linewidth=1)\n",
    "    plt.axvline(np.median(edge_weights[edge][0]), color='b', linestyle='solid', linewidth=1)\n",
    "    plt.axvline(np.median(edge_weights[edge][1]), color='y', linestyle='solid', linewidth=1)\n",
    "    "
   ]
  },
  {
   "cell_type": "code",
   "execution_count": 113,
   "metadata": {},
   "outputs": [
    {
     "name": "stdout",
     "output_type": "stream",
     "text": [
      "\n",
      "(62656, 35310)\n",
      "diff of median:\n",
      "19539.0\n",
      "diff of mean:\n",
      "5521.400000000009\n",
      "diff of mean minus median:\n",
      "-9058.199999999997\n",
      "4959.399999999994\n",
      "\n",
      "(249309, 323607)\n",
      "diff of median:\n",
      "35361.5\n",
      "diff of mean:\n",
      "13270.524131274142\n",
      "diff of mean minus median:\n",
      "-33413.29729729729\n",
      "-11322.321428571435\n",
      "\n",
      "(853, 4666)\n",
      "diff of median:\n",
      "-2339.0\n",
      "diff of mean:\n",
      "7822.924761904753\n",
      "diff of mean minus median:\n",
      "-10429.146666666667\n",
      "-20591.07142857142\n",
      "\n",
      "(40081, 22964)\n",
      "diff of median:\n",
      "-58485.5\n",
      "diff of mean:\n",
      "-58485.5\n",
      "diff of mean minus median:\n",
      "0.0\n",
      "0.0\n",
      "\n",
      "(8778, 209602)\n",
      "diff of median:\n",
      "-825.0\n",
      "diff of mean:\n",
      "-5954.160606060614\n",
      "diff of mean minus median:\n",
      "-5948.060606060608\n",
      "-818.8999999999942\n",
      "\n",
      "(66596, 363893)\n",
      "diff of median:\n",
      "3546.0\n",
      "diff of mean:\n",
      "3546.0\n",
      "diff of mean minus median:\n",
      "0.0\n",
      "0.0\n",
      "\n",
      "(70537, 184922)\n",
      "diff of median:\n",
      "-32456.0\n",
      "diff of mean:\n",
      "709663.1666666667\n",
      "diff of mean minus median:\n",
      "-373.33333333331393\n",
      "-742492.5\n",
      "\n",
      "(194928, 141058)\n",
      "diff of median:\n",
      "6300.0\n",
      "diff of mean:\n",
      "6300.0\n",
      "diff of mean minus median:\n",
      "0.0\n",
      "0.0\n",
      "\n",
      "(221905, 95269)\n",
      "diff of median:\n",
      "-890.5\n",
      "diff of mean:\n",
      "-14390.5\n",
      "diff of mean minus median:\n",
      "-13556.5\n",
      "-56.5\n",
      "\n",
      "(438298, 24373)\n",
      "diff of median:\n",
      "20637.0\n",
      "diff of mean:\n",
      "7488.666666666686\n",
      "diff of mean minus median:\n",
      "0.0\n",
      "13148.333333333314\n"
     ]
    }
   ],
   "source": [
    "for k in edge_weights.keys():\n",
    "    w = edge_weights[k]\n",
    "    print()\n",
    "    print(k)\n",
    "    \n",
    "    print(\"diff of median:\")\n",
    "    print(np.median(w[1]) - np.median(w[0]))\n",
    "    \n",
    "    print(\"diff of mean:\")\n",
    "    print(w[1].mean() - w[0].mean())\n",
    "    \n",
    "    \n",
    "    print(\"diff of mean minus median:\")\n",
    "    print(np.median(w[0]) - w[0].mean())\n",
    "    print(np.median(w[1]) - w[1].mean())"
   ]
  }
 ],
 "metadata": {
  "kernelspec": {
   "display_name": "Python 3",
   "language": "python",
   "name": "python3"
  },
  "language_info": {
   "codemirror_mode": {
    "name": "ipython",
    "version": 3
   },
   "file_extension": ".py",
   "mimetype": "text/x-python",
   "name": "python",
   "nbconvert_exporter": "python",
   "pygments_lexer": "ipython3",
   "version": "3.7.7"
  }
 },
 "nbformat": 4,
 "nbformat_minor": 4
}
