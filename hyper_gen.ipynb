{
 "cells": [
  {
   "cell_type": "code",
   "execution_count": 1,
   "metadata": {},
   "outputs": [],
   "source": [
    "import networkx as nx\n",
    "import pickle\n",
    "import time\n",
    "import utils\n",
    "import math"
   ]
  },
  {
   "cell_type": "code",
   "execution_count": 2,
   "metadata": {},
   "outputs": [],
   "source": [
    "def hyper_gen(level=2, degree=7, VERBOSE=True):\n",
    "    G = nx.Graph()\n",
    "    G.add_node(0, x = 0, y = 0, radian_begin = 0, radian_end = 2 * math.pi)\n",
    "    node_begin = G.number_of_nodes() # begin of child nodes\n",
    "    node_inner_begin = 0\n",
    "    node_inner_end = G.number_of_nodes()\n",
    "\n",
    "    for level_iter in range(level):\n",
    "\n",
    "        for node_inner in range(node_inner_begin, node_inner_end):\n",
    "            if node_inner > node_inner_begin:\n",
    "                G.add_edge(node_inner, get_pre_node_child(G, node_inner), weight=1)\n",
    "                if not VERBOSE:\n",
    "                    print(str(node_inner) + ' ' + str(get_pre_node_child(G, node_inner)))\n",
    "\n",
    "            if node_inner == node_inner_end - 1 and node_inner != 0:\n",
    "                G.add_edge(node_inner, node_inner_end, weight=1)\n",
    "                if not VERBOSE:\n",
    "                    print(str(node_inner) + ' ' + str(node_inner_end))\n",
    "\n",
    "            num_node_child = degree - G.degree[node_inner]\n",
    "            G_node_inner = G.nodes[node_inner]\n",
    "            radian_node_child = (G_node_inner['radian_end'] - G_node_inner['radian_begin']) / num_node_child\n",
    "            radian_iter = G_node_inner['radian_begin']\n",
    "\n",
    "            for node_child in range(node_begin, node_begin + num_node_child):\n",
    "                node_child_radian = radian_iter + radian_node_child * 0.5\n",
    "                G.add_node(\n",
    "                    node_child,\n",
    "                    x = get_x(node_child_radian, level_iter + 1),\n",
    "                    y = get_y(node_child_radian, level_iter + 1),\n",
    "                    radian_begin = radian_iter,\n",
    "                    radian_end = radian_iter + radian_node_child\n",
    "                )\n",
    "                radian_iter = radian_iter + radian_node_child\n",
    "\n",
    "                G.add_edge(node_inner, node_child, weight=1)\n",
    "                if not VERBOSE:\n",
    "                    print(str(node_inner) + ' ' + str(node_child))\n",
    "            node_begin = node_begin + num_node_child\n",
    "\n",
    "        node_inner_begin = node_inner_end\n",
    "        node_inner_end = G.number_of_nodes()\n",
    "\n",
    "        G.add_edge(node_inner_begin, node_inner_end - 1, weight = 1)\n",
    "        if not VERBOSE:\n",
    "            print(str(node_inner_end - 1) + ' ' + str(node_inner_begin))\n",
    "        for node in range(node_inner_begin + 1, node_inner_end):\n",
    "            G.add_edge(node - 1, node, weight=1)\n",
    "            if not VERBOSE:\n",
    "                print(str(node - 1) + ' ' + str(node))\n",
    "\n",
    "    return G\n",
    "\n",
    "def get_pre_node_child(G, node):\n",
    "    return list(G.edges(node - 1))[-1][1]\n",
    "\n",
    "def get_x(radian, radius):\n",
    "    return radius * math.cos(radian)\n",
    "\n",
    "def get_y(radian, radius):\n",
    "    return radius * math.sin(radian)"
   ]
  },
  {
   "cell_type": "code",
   "execution_count": 3,
   "metadata": {},
   "outputs": [],
   "source": [
    "def getNumNodes(level=2):\n",
    "    res = []\n",
    "    if level == 0:\n",
    "        return 1\n",
    "    else:\n",
    "        res.append(0)\n",
    "    if level == 1:\n",
    "        return 8\n",
    "    else:\n",
    "        res.append(7)\n",
    "    for l in range(level - 1):\n",
    "        res.append(3*res[-1] - res[-2])\n",
    "    return sum(res) + 1"
   ]
  },
  {
   "cell_type": "code",
   "execution_count": 4,
   "metadata": {},
   "outputs": [
    {
     "name": "stdout",
     "output_type": "stream",
     "text": [
      "1\n",
      "8\n",
      "29\n",
      "85\n",
      "232\n",
      "617\n",
      "1625\n",
      "4264\n",
      "11173\n",
      "29261\n"
     ]
    }
   ],
   "source": [
    "for i in range(10):\n",
    "    print(getNumNodes(i))"
   ]
  },
  {
   "cell_type": "code",
   "execution_count": 5,
   "metadata": {},
   "outputs": [],
   "source": [
    "G = hyper_gen(3, 7, True)"
   ]
  },
  {
   "cell_type": "code",
   "execution_count": 6,
   "metadata": {},
   "outputs": [],
   "source": [
    "# utils.plotDeployment(G)"
   ]
  },
  {
   "cell_type": "code",
   "execution_count": 7,
   "metadata": {},
   "outputs": [
    {
     "name": "stdout",
     "output_type": "stream",
     "text": [
      "(0, 1, 2, 3)\n",
      "[2, 2, 3]\n",
      "(0, 9, 12, 37)\n",
      "[4, 4, 6]\n",
      "hyperbolicity: 1.0\n",
      "--- 2.000075101852417 seconds ---\n"
     ]
    }
   ],
   "source": [
    "start_time = time.time()\n",
    "utils.getHyperbolicity(G)\n",
    "print(\"--- %s seconds ---\" % (time.time() - start_time))"
   ]
  },
  {
   "cell_type": "code",
   "execution_count": 8,
   "metadata": {},
   "outputs": [
    {
     "name": "stdout",
     "output_type": "stream",
     "text": [
      "(0, 1, 2, 3)\n",
      "[2, 2, 3]\n",
      "(0, 9, 12, 37)\n",
      "[4, 4, 6]\n",
      "hyperbolicity: 1.0\n",
      "--- 2.066446304321289 seconds ---\n"
     ]
    }
   ],
   "source": [
    "start_time = time.time()\n",
    "utils.getHyperbolicity(G)\n",
    "print(\"--- %s seconds ---\" % (time.time() - start_time))"
   ]
  },
  {
   "cell_type": "code",
   "execution_count": null,
   "metadata": {},
   "outputs": [],
   "source": [
    "def addEdgesToGraph(G_modified):\n",
    "    old_edges = list(G_modified.edges)\n",
    "    i_node = len(G_modified.nodes)\n",
    "    for edge in old_edges:\n",
    "        G_modified.remove_edge(edge[0], edge[1])\n",
    "        G_modified.add_edge(edge[0], i_node, weight = 1)\n",
    "        G_modified.add_edge(i_node, i_node + 1, weight = 1)\n",
    "        G_modified.add_edge(i_node + 1, edge[1], weight = 1)\n",
    "        i_node = i_node + 2\n",
    "    return G_modified"
   ]
  },
  {
   "cell_type": "code",
   "execution_count": 16,
   "metadata": {},
   "outputs": [],
   "source": [
    "G37 = hyper_gen(3, 7, True)\n",
    "G37_modified = addEdgesToGraph(G37)"
   ]
  },
  {
   "cell_type": "code",
   "execution_count": 17,
   "metadata": {},
   "outputs": [
    {
     "data": {
      "text/plain": [
       "477"
      ]
     },
     "execution_count": 17,
     "metadata": {},
     "output_type": "execute_result"
    }
   ],
   "source": [
    "len(G37_modified.nodes)"
   ]
  },
  {
   "cell_type": "code",
   "execution_count": 10,
   "metadata": {},
   "outputs": [],
   "source": [
    "G27 = hyper_gen(2, 7, True)\n",
    "G27_modified = addEdgesToGraph(G27)"
   ]
  },
  {
   "cell_type": "code",
   "execution_count": 12,
   "metadata": {},
   "outputs": [
    {
     "data": {
      "text/plain": [
       "155"
      ]
     },
     "execution_count": 12,
     "metadata": {},
     "output_type": "execute_result"
    }
   ],
   "source": [
    "len(G27_modified.nodes)"
   ]
  },
  {
   "cell_type": "code",
   "execution_count": 45,
   "metadata": {},
   "outputs": [
    {
     "name": "stdout",
     "output_type": "stream",
     "text": [
      "(0, 1, 2, 3)\n",
      "[4, 4, 6]\n",
      "(0, 9, 12, 37)\n",
      "[8, 8, 12]\n",
      "hyperbolicity: 2.0\n",
      "--- 381.9695656299591 seconds ---\n"
     ]
    }
   ],
   "source": [
    "# To Run, H37 modified?\n",
    "start_time = time.time()\n",
    "utils.getHyperbolicity(G_modified)\n",
    "print(\"--- %s seconds ---\" % (time.time() - start_time))"
   ]
  },
  {
   "cell_type": "code",
   "execution_count": 18,
   "metadata": {
    "scrolled": false
   },
   "outputs": [
    {
     "name": "stdout",
     "output_type": "stream",
     "text": [
      "(0, 1, 2, 3)\n",
      "[6, 6, 9]\n",
      "(0, 8, 30, 42)\n",
      "[6, 6, 10]\n",
      "(0, 9, 12, 119)\n",
      "[10, 11, 16]\n",
      "(1, 4, 13, 15)\n",
      "[12, 12, 18]\n",
      "hyperbolicity: 3.0\n",
      "--- 23.71558380126953 seconds ---\n"
     ]
    }
   ],
   "source": [
    "start_time = time.time()\n",
    "utils.getHyperbolicity(G27_modified)\n",
    "print(\"--- %s seconds ---\" % (time.time() - start_time))"
   ]
  },
  {
   "cell_type": "markdown",
   "metadata": {},
   "source": [
    "## The number of nodes and edges in 10 levels"
   ]
  },
  {
   "cell_type": "code",
   "execution_count": 24,
   "metadata": {},
   "outputs": [],
   "source": [
    "tmp = []\n",
    "for level in range(0, 11):\n",
    "    G = hyper_gen(level, 7, True)\n",
    "    lst = [level, len(G.nodes), len(G.edges)]\n",
    "    tmp.append(lst)"
   ]
  },
  {
   "cell_type": "markdown",
   "metadata": {},
   "source": [
    "### Number of *all* nodes and edges for different level"
   ]
  },
  {
   "cell_type": "code",
   "execution_count": 29,
   "metadata": {},
   "outputs": [
    {
     "name": "stdout",
     "output_type": "stream",
     "text": [
      "0\t1\t0\n",
      "1\t8\t14\n",
      "2\t29\t63\n",
      "3\t85\t196\n",
      "4\t232\t546\n",
      "5\t617\t1463\n",
      "6\t1625\t3864\n",
      "7\t4264\t10150\n",
      "8\t11173\t26607\n",
      "9\t29261\t69692\n",
      "10\t76616\t182490\n"
     ]
    }
   ],
   "source": [
    "for lst in tmp:\n",
    "    print(str(lst[0]) + \"\\t\" + str(lst[1]) + \"\\t\" + str(lst[2]))"
   ]
  },
  {
   "cell_type": "markdown",
   "metadata": {},
   "source": [
    "### Number of nodes and edges at each level"
   ]
  },
  {
   "cell_type": "code",
   "execution_count": 27,
   "metadata": {},
   "outputs": [
    {
     "name": "stdout",
     "output_type": "stream",
     "text": [
      "0\t1\t0\n",
      "1\t7\t14\n",
      "2\t21\t49\n",
      "3\t56\t133\n",
      "4\t147\t350\n",
      "5\t385\t917\n",
      "6\t1008\t2401\n",
      "7\t2639\t6286\n",
      "8\t6909\t16457\n",
      "9\t18088\t43085\n",
      "10\t47355\t112798\n"
     ]
    }
   ],
   "source": [
    "pre_n = 0\n",
    "pre_e = 0\n",
    "for lst in tmp:\n",
    "    print(str(lst[0]) + \"\\t\" + str(lst[1] - pre_n) + \"\\t\" + str(lst[2] - pre_e))\n",
    "    pre_n = lst[1]\n",
    "    pre_e = lst[2]"
   ]
  },
  {
   "cell_type": "code",
   "execution_count": null,
   "metadata": {},
   "outputs": [],
   "source": []
  }
 ],
 "metadata": {
  "kernelspec": {
   "display_name": "Python 3",
   "language": "python",
   "name": "python3"
  },
  "language_info": {
   "codemirror_mode": {
    "name": "ipython",
    "version": 3
   },
   "file_extension": ".py",
   "mimetype": "text/x-python",
   "name": "python",
   "nbconvert_exporter": "python",
   "pygments_lexer": "ipython3",
   "version": "3.7.3"
  }
 },
 "nbformat": 4,
 "nbformat_minor": 2
}
